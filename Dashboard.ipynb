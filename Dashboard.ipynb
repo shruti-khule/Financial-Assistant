{
 "cells": [
  {
   "cell_type": "code",
   "execution_count": 1,
   "id": "9ebe6f80-0c00-43d8-9031-bdff48e3f925",
   "metadata": {},
   "outputs": [],
   "source": [
    "import pandas as pd\n",
    "import numpy as np\n",
    "import plotly.express as px\n",
    "import panel as pn\n",
    "from IPython.display import display"
   ]
  },
  {
   "cell_type": "code",
   "execution_count": 2,
   "id": "a928ecf2-5f7d-496b-a104-97b2821af240",
   "metadata": {},
   "outputs": [],
   "source": [
    "'''\n",
    "import plotly.io as pio\n",
    "pio.renderers.default = 'notebook' \n",
    "'''"
   ]
  },
  {
   "cell_type": "code",
   "execution_count": 3,
   "id": "1ebcb003-6f87-4ff0-8e24-5dce3a1e0ce3",
   "metadata": {},
   "outputs": [],
   "source": [
    "# Read transactions_2022_2023_categorized.csv\n",
    "df = pd.read_csv('categorized_expenses.csv')"
   ]
  },
  {
   "cell_type": "code",
   "execution_count": 4,
   "id": "48cf936b-f5dc-47bd-b130-5a843233fa68",
   "metadata": {},
   "outputs": [
    {
     "data": {
      "text/html": [
       "<div>\n",
       "<style scoped>\n",
       "    .dataframe tbody tr th:only-of-type {\n",
       "        vertical-align: middle;\n",
       "    }\n",
       "\n",
       "    .dataframe tbody tr th {\n",
       "        vertical-align: top;\n",
       "    }\n",
       "\n",
       "    .dataframe thead th {\n",
       "        text-align: right;\n",
       "    }\n",
       "</style>\n",
       "<table border=\"1\" class=\"dataframe\">\n",
       "  <thead>\n",
       "    <tr style=\"text-align: right;\">\n",
       "      <th></th>\n",
       "      <th>Date</th>\n",
       "      <th>Expense</th>\n",
       "      <th>Category</th>\n",
       "      <th>Amount</th>\n",
       "    </tr>\n",
       "  </thead>\n",
       "  <tbody>\n",
       "    <tr>\n",
       "      <th>0</th>\n",
       "      <td>2024-09-01</td>\n",
       "      <td>Rent</td>\n",
       "      <td>Housing And Utilities</td>\n",
       "      <td>1200.0</td>\n",
       "    </tr>\n",
       "    <tr>\n",
       "      <th>1</th>\n",
       "      <td>2024-09-01</td>\n",
       "      <td>Electricity Bill</td>\n",
       "      <td>Housing And Utilities</td>\n",
       "      <td>75.5</td>\n",
       "    </tr>\n",
       "    <tr>\n",
       "      <th>2</th>\n",
       "      <td>2024-09-01</td>\n",
       "      <td>Water Bill</td>\n",
       "      <td>Housing And Utilities</td>\n",
       "      <td>30.0</td>\n",
       "    </tr>\n",
       "    <tr>\n",
       "      <th>3</th>\n",
       "      <td>2024-09-01</td>\n",
       "      <td>Internet Service</td>\n",
       "      <td>Housing And Utilities</td>\n",
       "      <td>45.0</td>\n",
       "    </tr>\n",
       "    <tr>\n",
       "      <th>4</th>\n",
       "      <td>2024-09-02</td>\n",
       "      <td>Metro Ticket</td>\n",
       "      <td>Transportation</td>\n",
       "      <td>2.8</td>\n",
       "    </tr>\n",
       "    <tr>\n",
       "      <th>...</th>\n",
       "      <td>...</td>\n",
       "      <td>...</td>\n",
       "      <td>...</td>\n",
       "      <td>...</td>\n",
       "    </tr>\n",
       "    <tr>\n",
       "      <th>234</th>\n",
       "      <td>2024-09-10</td>\n",
       "      <td>Garden Tools Rental</td>\n",
       "      <td>Repairs And Maintenance</td>\n",
       "      <td>25.0</td>\n",
       "    </tr>\n",
       "    <tr>\n",
       "      <th>235</th>\n",
       "      <td>2024-09-15</td>\n",
       "      <td>Lawn Mowing Service</td>\n",
       "      <td>Repairs And Maintenance</td>\n",
       "      <td>40.0</td>\n",
       "    </tr>\n",
       "    <tr>\n",
       "      <th>236</th>\n",
       "      <td>2024-09-20</td>\n",
       "      <td>Tree Trimming Service</td>\n",
       "      <td>Repairs And Maintenance</td>\n",
       "      <td>150.0</td>\n",
       "    </tr>\n",
       "    <tr>\n",
       "      <th>237</th>\n",
       "      <td>2024-09-25</td>\n",
       "      <td>Pest Control Service</td>\n",
       "      <td>Repairs And Maintenance</td>\n",
       "      <td>85.0</td>\n",
       "    </tr>\n",
       "    <tr>\n",
       "      <th>238</th>\n",
       "      <td>2024-09-05</td>\n",
       "      <td>Plant Nursery</td>\n",
       "      <td>Shopping</td>\n",
       "      <td>32.0</td>\n",
       "    </tr>\n",
       "  </tbody>\n",
       "</table>\n",
       "<p>239 rows × 4 columns</p>\n",
       "</div>"
      ],
      "text/plain": [
       "           Date                Expense                 Category  Amount\n",
       "0    2024-09-01                   Rent    Housing And Utilities  1200.0\n",
       "1    2024-09-01       Electricity Bill    Housing And Utilities    75.5\n",
       "2    2024-09-01             Water Bill    Housing And Utilities    30.0\n",
       "3    2024-09-01       Internet Service    Housing And Utilities    45.0\n",
       "4    2024-09-02           Metro Ticket           Transportation     2.8\n",
       "..          ...                    ...                      ...     ...\n",
       "234  2024-09-10    Garden Tools Rental  Repairs And Maintenance    25.0\n",
       "235  2024-09-15    Lawn Mowing Service  Repairs And Maintenance    40.0\n",
       "236  2024-09-20  Tree Trimming Service  Repairs And Maintenance   150.0\n",
       "237  2024-09-25   Pest Control Service  Repairs And Maintenance    85.0\n",
       "238  2024-09-05          Plant Nursery                 Shopping    32.0\n",
       "\n",
       "[239 rows x 4 columns]"
      ]
     },
     "execution_count": 4,
     "metadata": {},
     "output_type": "execute_result"
    }
   ],
   "source": [
    "df"
   ]
  },
  {
   "cell_type": "code",
   "execution_count": 19,
   "id": "408567b4-f2e5-4318-a5f0-275438b97a61",
   "metadata": {},
   "outputs": [],
   "source": [
    "color_scale = px.colors.qualitative.Pastel"
   ]
  },
  {
   "cell_type": "code",
   "execution_count": null,
   "id": "7e066be4-919a-4987-a7f6-73038221ca6c",
   "metadata": {},
   "outputs": [],
   "source": [
    "pie_fig = px.pie(df, values='Amount', names='Category', color_discrete_sequence = color_scale)\n",
    "pie_fig.update_traces(textposition='inside', direction ='clockwise', hole=0.3, textinfo=\"label+percent\")"
   ]
  },
  {
   "cell_type": "code",
   "execution_count": 20,
   "id": "3e17c526-554a-468d-8124-07f946fdd080",
   "metadata": {},
   "outputs": [
    {
     "name": "stdout",
     "output_type": "stream",
     "text": [
      ".....category totals......                     Category   Amount\n",
      "0   Accommodation And Travel   245.00\n",
      "1              Entertainment  1135.95\n",
      "2            Food And Drinks   748.72\n",
      "3                  Groceries   359.95\n",
      "4        Health And Wellness   286.10\n",
      "5      Housing And Utilities  1350.50\n",
      "6              Miscellaneous    32.00\n",
      "7              Personal Care    87.00\n",
      "8    Repairs And Maintenance   791.00\n",
      "9                   Shopping  1205.43\n",
      "10    Subscriptions And Fees   560.30\n",
      "11            Transportation   103.55\n",
      "12       Vehicle Maintenance   612.00\n"
     ]
    }
   ],
   "source": [
    "# Group by Category and sum the Amount\n",
    "category_totals = df.groupby('Category')['Amount'].sum().reset_index()\n",
    "print(\".....category totals......\",category_totals)"
   ]
  },
  {
   "cell_type": "code",
   "execution_count": 21,
   "id": "52240ae5-19ec-43f3-a124-08e46a6b1702",
   "metadata": {
    "scrolled": true
   },
   "outputs": [],
   "source": [
    "# Create the pie chart\n",
    "fig = px.pie(category_totals, values='Amount', names='Category', \n",
    "             title='Expense Distribution by Category',color_discrete_sequence = color_scale)\n"
   ]
  },
  {
   "cell_type": "code",
   "execution_count": 22,
   "id": "db9b4594-16c4-4787-8aa8-40cda692a463",
   "metadata": {},
   "outputs": [
    {
     "data": {
      "text/html": [
       "<iframe\n",
       "    scrolling=\"no\"\n",
       "    width=\"100%\"\n",
       "    height=\"545px\"\n",
       "    src=\"iframe_figures/figure_22.html\"\n",
       "    frameborder=\"0\"\n",
       "    allowfullscreen\n",
       "></iframe>\n"
      ]
     },
     "metadata": {},
     "output_type": "display_data"
    }
   ],
   "source": [
    "fig.show(renderer='iframe')"
   ]
  },
  {
   "cell_type": "code",
   "execution_count": null,
   "id": "779cb917-2fac-4d8c-97ae-cfa0d09743a5",
   "metadata": {},
   "outputs": [],
   "source": []
  }
 ],
 "metadata": {
  "kernelspec": {
   "display_name": "Python 3 (ipykernel)",
   "language": "python",
   "name": "python3"
  },
  "language_info": {
   "codemirror_mode": {
    "name": "ipython",
    "version": 3
   },
   "file_extension": ".py",
   "mimetype": "text/x-python",
   "name": "python",
   "nbconvert_exporter": "python",
   "pygments_lexer": "ipython3",
   "version": "3.12.4"
  }
 },
 "nbformat": 4,
 "nbformat_minor": 5
}
