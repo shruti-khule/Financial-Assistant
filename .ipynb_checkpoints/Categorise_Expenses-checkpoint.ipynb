{
 "cells": [
  {
   "cell_type": "code",
   "execution_count": 1,
   "id": "4228ca88-ceb2-4ee5-b48b-91ab1897ec6a",
   "metadata": {},
   "outputs": [],
   "source": [
    "from dotenv import load_dotenv\n",
    "import os\n",
    "from langchain_groq import ChatGroq\n",
    "import pandas as pd\n",
    "import re"
   ]
  },
  {
   "cell_type": "code",
   "execution_count": 2,
   "id": "de90c2b9-9022-4345-8bc8-9985b824a379",
   "metadata": {},
   "outputs": [],
   "source": [
    "load_dotenv(\"secret.env\")\n",
    "api_key = os.getenv(\"GROQ_API_KEY\")"
   ]
  },
  {
   "cell_type": "code",
   "execution_count": 3,
   "id": "90c8c16d-5c4d-4b3c-8520-249ef003fd60",
   "metadata": {},
   "outputs": [],
   "source": [
    "# Initialize LLM\n",
    "llm = ChatGroq(\n",
    "    model=\"llama-3.1-70b-versatile\",\n",
    "    groq_api_key=api_key,\n",
    "    temperature=0.9,\n",
    "    max_tokens=None,\n",
    "    timeout=None,\n",
    "    max_retries=2\n",
    ")"
   ]
  },
  {
   "cell_type": "code",
   "execution_count": 4,
   "id": "3f7db672-604d-42e5-97fd-706a2e182e70",
   "metadata": {},
   "outputs": [
    {
     "name": "stdout",
     "output_type": "stream",
     "text": [
      "        Date            Description  Amount (EUR) Transaction Type  \\\n",
      "0     9/1/24                 Salary       3500.00           Income   \n",
      "1     9/1/24                   Rent       1200.00          Expense   \n",
      "2     9/1/24       Electricity Bill         75.50          Expense   \n",
      "3     9/1/24             Water Bill         30.00          Expense   \n",
      "4     9/1/24       Internet Service         45.00          Expense   \n",
      "..       ...                    ...           ...              ...   \n",
      "254  9/15/24    Lawn Mowing Service         40.00          Expense   \n",
      "255  9/20/24  Tree Trimming Service        150.00          Expense   \n",
      "256  9/25/24   Pest Control Service         85.00          Expense   \n",
      "257  9/30/24       GPT Subscription         24.99          Expense   \n",
      "258  9/30/24            Cafe Mulino         12.99          Expense   \n",
      "\n",
      "     Transaction_ID  \n",
      "0                 0  \n",
      "1                 1  \n",
      "2                 2  \n",
      "3                 3  \n",
      "4                 4  \n",
      "..              ...  \n",
      "254             254  \n",
      "255             255  \n",
      "256             256  \n",
      "257             257  \n",
      "258             258  \n",
      "\n",
      "[259 rows x 5 columns]\n"
     ]
    }
   ],
   "source": [
    "# Read csv of monthly expenses\n",
    "df = pd.read_csv(\"monthly-transactions.csv\")\n",
    "df['Transaction_ID']=df.index\n",
    "df.head()\n",
    "print(df)"
   ]
  },
  {
   "cell_type": "code",
   "execution_count": 54,
   "id": "4c1b0c98-600e-42fd-976f-a2724a2422af",
   "metadata": {},
   "outputs": [],
   "source": [
    "# Prompt Engineering\n",
    "\n",
    "from langchain_core.prompts import PromptTemplate\n",
    "\n",
    "prompt_categorization = PromptTemplate.from_template(\n",
    "    \"\"\"\n",
    "    You are a financial assistant. Your task is to categorize the provided transactions into appropriate categories.\n",
    "\n",
    "    Input format:\n",
    "    'Transaction ID | Transaction Name - Income/Expense'. Transactions are separated by commas.\n",
    "\n",
    "    Categorization rules:\n",
    "    1. Categorize each transaction based on its name (e.g., coffee shop → Food and Drinks, retail store → Shopping).\n",
    "    2. Each transaction must be assigned to only one category.\n",
    "    3. For ambiguous transactions, use \"Miscellaneous Expense\" or \"Miscellaneous Income\" as appropriate.\n",
    "    4. No transaction should be left uncategorized.\n",
    "\n",
    "    Output format:\n",
    "    - Group transactions by category. Do not include numbering or bullet points.\n",
    "    - Use the format: \n",
    "      Category Name:\n",
    "         Transaction ID | Transaction Name\n",
    "         Transaction ID | Transaction Name\n",
    "    - Do not include categories with no transactions present.\n",
    "    - Do not include the transaction type (Income/Expense) from the input.\n",
    "    - Do not include explanations, commentary, or reclassification instructions.\n",
    "\n",
    "    Categories:\n",
    "    Expense Categories:\n",
    "    - Housing and Utilities: Rent, water bill, insurance, utilities, etc.\n",
    "    - Transportation: Metro, taxis, ride-sharing, etc.\n",
    "    - Vehicle Maintenance: Car repairs, gas, car washes, etc.\n",
    "    - Food and Drinks: Restaurants, cafes, coffee shops, etc.\n",
    "    - Groceries: Supermarket, grocery store purchases.\n",
    "    - Health and Wellness: Healthcare, pharmacies, etc.\n",
    "    - Personal Care: Beauty, salons, spas, barbershops.\n",
    "    - Shopping: Retail, online shopping (clothing, electronics, household items).\n",
    "    - Entertainment: Movies, streaming services, concerts, etc.\n",
    "    - Repairs and Maintenance: Repairs unrelated to vehicles (appliances, etc.).\n",
    "    - Subscriptions and Fees: Recurring fees (subscriptions, memberships).\n",
    "    - Miscellaneous Expense: For any uncategorized or ambiguous transactions.\n",
    "\n",
    "    Income Categories:\n",
    "    - Salary: Regular income from employment.\n",
    "    - Investments: Dividends, interest, capital gains, etc.\n",
    "    - Miscellaneous Income: Gifts, bonuses, or other uncategorized income.\n",
    "\n",
    "    Transactions to categorize:\n",
    "    {transactions}\n",
    "    \"\"\"\n",
    ")\n"
   ]
  },
  {
   "cell_type": "code",
   "execution_count": 55,
   "id": "1b60139a-d490-4a03-b3f5-63ee8086599c",
   "metadata": {},
   "outputs": [],
   "source": [
    "'''\n",
    "For each row, it formats the Transaction ID (unique id for each transaction), Description, Transaction type (Expense / Income) into a single string with delimiter so that, LLM can more easily interpret them.\n",
    "['1 | Rent - Expense',....]\n",
    "'''\n",
    "\n",
    "def format_transactions(transactions):\n",
    "    formatted_transactions = []\n",
    "    for _, row in transactions.iterrows():\n",
    "        formatted_transactions.append(f\"{row['Transaction_ID']} | {row['Description']} - {row['Transaction Type']}\")\n",
    "    print(\".....formatted_transactions.....\",formatted_transactions)\n",
    "    return formatted_transactions\n"
   ]
  },
  {
   "cell_type": "code",
   "execution_count": 56,
   "id": "d9d9cf2f-d5a4-420b-8aaa-88c34acd8cd9",
   "metadata": {},
   "outputs": [],
   "source": [
    "'''\n",
    "Converts the list of formatted expenses into a single text string seperated by ',' \n",
    "expense_text: 1 | Rent - Expense, 2 | Electricity Bill - Expense,...\n",
    "Sends expense_text to LLM\n",
    "'''\n",
    "\n",
    "def categorize_transactions(transaction_list):\n",
    "    transaction_text = ', '.join(transaction_list)\n",
    "    print(\".....transaction text sent to llm.....\",transaction_text)\n",
    "    chain_categorization = prompt_categorization | llm\n",
    "    response = chain_categorization.invoke({\"transactions\": transaction_text})\n",
    "    return response.content\n",
    "    "
   ]
  },
  {
   "cell_type": "code",
   "execution_count": 57,
   "id": "8f281213-2f75-46fb-acc9-2af3e28590b8",
   "metadata": {},
   "outputs": [],
   "source": [
    "# Defining chunk size due to context limit\n",
    "chunk_size=25\n",
    "# Empty list to append results of each chunk batch\n",
    "categorized_transactions=[]"
   ]
  },
  {
   "cell_type": "code",
   "execution_count": 58,
   "id": "4851095f-8541-4592-bb2c-253434f57d7c",
   "metadata": {
    "scrolled": true
   },
   "outputs": [
    {
     "name": "stdout",
     "output_type": "stream",
     "text": [
      ".....formatted_transactions..... ['0 | Salary - Income', '1 | Rent - Expense', '2 | Electricity Bill - Expense', '3 | Water Bill - Expense', '4 | Internet Service - Expense', '5 | Mobile Phone Plan - Expense', '6 | Gym Membership - Expense', '7 | Netflix Subscription - Expense', '8 | Home Insurance - Expense', '9 | Car Insurance - Expense', '10 | Health Insurance - Expense', '11 | Spotify Premium - Expense', '12 | Café Noir - Expense', '13 | Metro Ticket - Expense', '14 | Lunch at Work Cafeteria - Expense', '15 | Supermarket Express - Expense', '16 | Bakery Deluxe - Expense', '17 | Metro Ticket - Expense', '18 | Lunch at Veggie Corner - Expense', '19 | Pharmacy - Expense', '20 | Café Noir - Expense', '21 | Metro Ticket - Expense', '22 | Lunch at Pasta Paradise - Expense', '23 | Bookstore - Expense', '24 | Bakery Deluxe - Expense']\n",
      ".....transaction text sent to llm..... 0 | Salary - Income, 1 | Rent - Expense, 2 | Electricity Bill - Expense, 3 | Water Bill - Expense, 4 | Internet Service - Expense, 5 | Mobile Phone Plan - Expense, 6 | Gym Membership - Expense, 7 | Netflix Subscription - Expense, 8 | Home Insurance - Expense, 9 | Car Insurance - Expense, 10 | Health Insurance - Expense, 11 | Spotify Premium - Expense, 12 | Café Noir - Expense, 13 | Metro Ticket - Expense, 14 | Lunch at Work Cafeteria - Expense, 15 | Supermarket Express - Expense, 16 | Bakery Deluxe - Expense, 17 | Metro Ticket - Expense, 18 | Lunch at Veggie Corner - Expense, 19 | Pharmacy - Expense, 20 | Café Noir - Expense, 21 | Metro Ticket - Expense, 22 | Lunch at Pasta Paradise - Expense, 23 | Bookstore - Expense, 24 | Bakery Deluxe - Expense\n",
      ".....formatted_transactions..... ['25 | Metro Ticket - Expense', '26 | Lunch at Sushi Express - Expense', '27 | Cinema Ticket - Expense', '28 | Café Noir - Expense', '29 | Metro Ticket - Expense', '30 | Lunch at Burger Bliss - Expense', '31 | H&M - Expense', '32 | Local Market - Expense', '33 | Coffee Bean - Expense', '34 | Pizza Pronto - Expense', '35 | Gas Station - Expense', '36 | Brunch at Sunny Side Up - Expense', '37 | Museum Entry - Expense', '38 | Ice Cream Parlor - Expense', '39 | Supermarket Express - Expense', '40 | Café Noir - Expense', '41 | Metro Ticket - Expense', '42 | Lunch at Salad Bar - Expense', '43 | Office Supplies Store - Expense', '44 | Dividend Payment - Income', '45 | Bakery Deluxe - Expense', '46 | Metro Ticket - Expense', '47 | Lunch at Taco Fiesta - Expense', '48 | Dry Cleaning - Expense', '49 | Café Noir - Expense']\n",
      ".....transaction text sent to llm..... 25 | Metro Ticket - Expense, 26 | Lunch at Sushi Express - Expense, 27 | Cinema Ticket - Expense, 28 | Café Noir - Expense, 29 | Metro Ticket - Expense, 30 | Lunch at Burger Bliss - Expense, 31 | H&M - Expense, 32 | Local Market - Expense, 33 | Coffee Bean - Expense, 34 | Pizza Pronto - Expense, 35 | Gas Station - Expense, 36 | Brunch at Sunny Side Up - Expense, 37 | Museum Entry - Expense, 38 | Ice Cream Parlor - Expense, 39 | Supermarket Express - Expense, 40 | Café Noir - Expense, 41 | Metro Ticket - Expense, 42 | Lunch at Salad Bar - Expense, 43 | Office Supplies Store - Expense, 44 | Dividend Payment - Income, 45 | Bakery Deluxe - Expense, 46 | Metro Ticket - Expense, 47 | Lunch at Taco Fiesta - Expense, 48 | Dry Cleaning - Expense, 49 | Café Noir - Expense\n",
      ".....formatted_transactions..... ['50 | Metro Ticket - Expense', '51 | Lunch at Pho Delight - Expense', '52 | Electronics Store - Expense', '53 | Bakery Deluxe - Expense', '54 | Metro Ticket - Expense', '55 | Lunch at Greek Taverna - Expense', '56 | Concert Ticket - Expense', '57 | Café Noir - Expense', '58 | Metro Ticket - Expense', '59 | Lunch at Indian Spice - Expense', '60 | Zara - Expense', '61 | Farmers Market - Expense', '62 | Coffee Bean - Expense', '63 | Italian Restaurant - Expense', '64 | Movie Rental - Expense', '65 | Freelance Payment - Income', '66 | Brunch at Crepe Corner - Expense', '67 | Botanical Garden Entry - Expense', '68 | Gelato Shop - Expense', '69 | Supermarket Express - Expense', '70 | Café Noir - Expense', '71 | Metro Ticket - Expense', '72 | Lunch at Sandwich Spot - Expense', '73 | Stationery Shop - Expense', '74 | Bakery Deluxe - Expense']\n",
      ".....transaction text sent to llm..... 50 | Metro Ticket - Expense, 51 | Lunch at Pho Delight - Expense, 52 | Electronics Store - Expense, 53 | Bakery Deluxe - Expense, 54 | Metro Ticket - Expense, 55 | Lunch at Greek Taverna - Expense, 56 | Concert Ticket - Expense, 57 | Café Noir - Expense, 58 | Metro Ticket - Expense, 59 | Lunch at Indian Spice - Expense, 60 | Zara - Expense, 61 | Farmers Market - Expense, 62 | Coffee Bean - Expense, 63 | Italian Restaurant - Expense, 64 | Movie Rental - Expense, 65 | Freelance Payment - Income, 66 | Brunch at Crepe Corner - Expense, 67 | Botanical Garden Entry - Expense, 68 | Gelato Shop - Expense, 69 | Supermarket Express - Expense, 70 | Café Noir - Expense, 71 | Metro Ticket - Expense, 72 | Lunch at Sandwich Spot - Expense, 73 | Stationery Shop - Expense, 74 | Bakery Deluxe - Expense\n",
      ".....formatted_transactions..... ['75 | Metro Ticket - Expense', '76 | Lunch at Wok & Roll - Expense', '77 | Hardware Store - Expense', '78 | Café Noir - Expense', '79 | Metro Ticket - Expense', '80 | Lunch at Falafel House - Expense', '81 | Sporting Goods Store - Expense', '82 | Bakery Deluxe - Expense', '83 | Metro Ticket - Expense', '84 | Lunch at Smoothie Bar - Expense', '85 | Art Supply Shop - Expense', '86 | Interest Income - Income', '87 | Café Noir - Expense', '88 | Metro Ticket - Expense', '89 | Lunch at Ramen House - Expense', '90 | Uniqlo - Expense', '91 | Local Market - Expense', '92 | Coffee Bean - Expense', '93 | Burger Joint - Expense', '94 | Car Wash - Expense', '95 | Brunch at Pancake Palace - Expense', '96 | Zoo Admission - Expense', '97 | Food Truck Festival - Expense', '98 | Supermarket Express - Expense', '99 | Café Noir - Expense']\n",
      ".....transaction text sent to llm..... 75 | Metro Ticket - Expense, 76 | Lunch at Wok & Roll - Expense, 77 | Hardware Store - Expense, 78 | Café Noir - Expense, 79 | Metro Ticket - Expense, 80 | Lunch at Falafel House - Expense, 81 | Sporting Goods Store - Expense, 82 | Bakery Deluxe - Expense, 83 | Metro Ticket - Expense, 84 | Lunch at Smoothie Bar - Expense, 85 | Art Supply Shop - Expense, 86 | Interest Income - Income, 87 | Café Noir - Expense, 88 | Metro Ticket - Expense, 89 | Lunch at Ramen House - Expense, 90 | Uniqlo - Expense, 91 | Local Market - Expense, 92 | Coffee Bean - Expense, 93 | Burger Joint - Expense, 94 | Car Wash - Expense, 95 | Brunch at Pancake Palace - Expense, 96 | Zoo Admission - Expense, 97 | Food Truck Festival - Expense, 98 | Supermarket Express - Expense, 99 | Café Noir - Expense\n",
      ".....formatted_transactions..... ['100 | Metro Ticket - Expense', '101 | Lunch at Veggie Delight - Expense', '102 | Phone Accessories Shop - Expense', '103 | Bakery Deluxe - Expense', '104 | Metro Ticket - Expense', '105 | Lunch at Burrito Bowl - Expense', '106 | Pet Store - Expense', '107 | Rental Income - Income', '108 | Café Noir - Expense', '109 | Metro Ticket - Expense', '110 | Lunch at Sushi Train - Expense', '111 | Bookstore - Expense', '112 | Bakery Deluxe - Expense', '113 | Metro Ticket - Expense', '114 | Lunch at Poke Place - Expense', '115 | Theater Ticket - Expense', '116 | Café Noir - Expense', '117 | Metro Ticket - Expense', '118 | Lunch at Mediterranean Grill - Expense', '119 | Home Decor Store - Expense', '120 | Farmers Market - Expense', '121 | Coffee Bean - Expense', '122 | Steakhouse - Expense', '123 | Gas Station - Expense', '124 | Brunch at Avocado Toast - Expense']\n",
      ".....transaction text sent to llm..... 100 | Metro Ticket - Expense, 101 | Lunch at Veggie Delight - Expense, 102 | Phone Accessories Shop - Expense, 103 | Bakery Deluxe - Expense, 104 | Metro Ticket - Expense, 105 | Lunch at Burrito Bowl - Expense, 106 | Pet Store - Expense, 107 | Rental Income - Income, 108 | Café Noir - Expense, 109 | Metro Ticket - Expense, 110 | Lunch at Sushi Train - Expense, 111 | Bookstore - Expense, 112 | Bakery Deluxe - Expense, 113 | Metro Ticket - Expense, 114 | Lunch at Poke Place - Expense, 115 | Theater Ticket - Expense, 116 | Café Noir - Expense, 117 | Metro Ticket - Expense, 118 | Lunch at Mediterranean Grill - Expense, 119 | Home Decor Store - Expense, 120 | Farmers Market - Expense, 121 | Coffee Bean - Expense, 122 | Steakhouse - Expense, 123 | Gas Station - Expense, 124 | Brunch at Avocado Toast - Expense\n",
      ".....formatted_transactions..... ['125 | Aquarium Visit - Expense', '126 | Ice Cream Truck - Expense', '127 | Supermarket Express - Expense', '128 | Stock Sale - Income', '129 | Café Noir - Expense', '130 | Metro Ticket - Expense', '131 | Lunch at Noodle Bar - Expense', '132 | Office Supplies Store - Expense', '133 | Amazon.com - Expense', '134 | Uber - Expense', '135 | Etsy - Expense', '136 | Steam Games - Expense', '137 | Apple App Store - Expense', '138 | eBay - Expense', '139 | Deliveroo - Expense', '140 | Google Play Store - Expense', '141 | AliExpress - Expense', '142 | Uber Eats - Expense', '143 | Wayfair - Expense', '144 | Booking.com - Expense', '145 | ASOS - Expense', '146 | Airbnb - Expense', '147 | Nintendo eShop - Expense', '148 | Zalando - Expense', '149 | Just Eat - Expense']\n",
      ".....transaction text sent to llm..... 125 | Aquarium Visit - Expense, 126 | Ice Cream Truck - Expense, 127 | Supermarket Express - Expense, 128 | Stock Sale - Income, 129 | Café Noir - Expense, 130 | Metro Ticket - Expense, 131 | Lunch at Noodle Bar - Expense, 132 | Office Supplies Store - Expense, 133 | Amazon.com - Expense, 134 | Uber - Expense, 135 | Etsy - Expense, 136 | Steam Games - Expense, 137 | Apple App Store - Expense, 138 | eBay - Expense, 139 | Deliveroo - Expense, 140 | Google Play Store - Expense, 141 | AliExpress - Expense, 142 | Uber Eats - Expense, 143 | Wayfair - Expense, 144 | Booking.com - Expense, 145 | ASOS - Expense, 146 | Airbnb - Expense, 147 | Nintendo eShop - Expense, 148 | Zalando - Expense, 149 | Just Eat - Expense\n",
      ".....formatted_transactions..... ['150 | Humble Bundle - Expense', '151 | Wish - Expense', '152 | Bolt - Expense', '153 | Bandcamp - Expense', '154 | Depop - Expense', '155 | Etsy - Expense', '156 | Playstation Store - Expense', '157 | Ticketmaster - Expense', '158 | Revolut Top-up - Expense', '159 | Patreon - Expense', '160 | GOG.com - Expense', '161 | Vinted - Expense', '162 | Adobe Creative Cloud - Expense', '163 | Local Pub - Expense', '164 | Convenience Store - Expense', '165 | Food Truck - Expense', '166 | Florist - Expense', '167 | Barber Shop - Expense', '168 | Nail Salon - Expense', '169 | Car Park - Expense', '170 | Bike Rental - Expense', '171 | Laundromat - Expense', '172 | Shoe Repair - Expense', '173 | Watch Battery Replacement - Expense', '174 | Key Cutting - Expense']\n",
      ".....transaction text sent to llm..... 150 | Humble Bundle - Expense, 151 | Wish - Expense, 152 | Bolt - Expense, 153 | Bandcamp - Expense, 154 | Depop - Expense, 155 | Etsy - Expense, 156 | Playstation Store - Expense, 157 | Ticketmaster - Expense, 158 | Revolut Top-up - Expense, 159 | Patreon - Expense, 160 | GOG.com - Expense, 161 | Vinted - Expense, 162 | Adobe Creative Cloud - Expense, 163 | Local Pub - Expense, 164 | Convenience Store - Expense, 165 | Food Truck - Expense, 166 | Florist - Expense, 167 | Barber Shop - Expense, 168 | Nail Salon - Expense, 169 | Car Park - Expense, 170 | Bike Rental - Expense, 171 | Laundromat - Expense, 172 | Shoe Repair - Expense, 173 | Watch Battery Replacement - Expense, 174 | Key Cutting - Expense\n",
      ".....formatted_transactions..... ['175 | Photo Printing - Expense', '176 | Tailor - Expense', '177 | Eyeglass Repair - Expense', '178 | Locksmith - Expense', '179 | Computer Repair - Expense', '180 | Phone Screen Replacement - Expense', '181 | Vinyl Record Store - Expense', '182 | Thrift Store - Expense', '183 | Craft Beer Shop - Expense', '184 | Organic Food Store - Expense', '185 | Vape Shop - Expense', '186 | Comic Book Store - Expense', '187 | Board Game Cafe - Expense', '188 | Escape Room - Expense', '189 | Karaoke Bar - Expense', '190 | Bowling Alley - Expense', '191 | Mini Golf - Expense', '192 | Arcade - Expense', '193 | Gym Protein Shake - Expense', '194 | Office Vending Machine - Expense', '195 | Street Food Vendor - Expense', '196 | University Bookstore - Expense', '197 | Campus Cafe - Expense', '198 | Library Late Fee - Expense', '199 | Bike Shop - Expense']\n",
      ".....transaction text sent to llm..... 175 | Photo Printing - Expense, 176 | Tailor - Expense, 177 | Eyeglass Repair - Expense, 178 | Locksmith - Expense, 179 | Computer Repair - Expense, 180 | Phone Screen Replacement - Expense, 181 | Vinyl Record Store - Expense, 182 | Thrift Store - Expense, 183 | Craft Beer Shop - Expense, 184 | Organic Food Store - Expense, 185 | Vape Shop - Expense, 186 | Comic Book Store - Expense, 187 | Board Game Cafe - Expense, 188 | Escape Room - Expense, 189 | Karaoke Bar - Expense, 190 | Bowling Alley - Expense, 191 | Mini Golf - Expense, 192 | Arcade - Expense, 193 | Gym Protein Shake - Expense, 194 | Office Vending Machine - Expense, 195 | Street Food Vendor - Expense, 196 | University Bookstore - Expense, 197 | Campus Cafe - Expense, 198 | Library Late Fee - Expense, 199 | Bike Shop - Expense\n",
      ".....formatted_transactions..... ['200 | Flea Market - Expense', '201 | Food Co-op - Expense', '202 | Yoga Studio - Expense', '203 | Dance Class - Expense', '204 | Language Learning App - Expense', '205 | Online Course - Expense', '206 | Cooking Class - Expense', '207 | Wine Tasting - Expense', '208 | Pottery Workshop - Expense', '209 | Stock Sale - Income', '210 | Karaoke Bar - Expense', '211 | Rock Climbing Gym - Expense', '212 | Surf Shop Rental - Expense', '213 | Ski Pass - Expense', '214 | Camping Equipment Rental - Expense', '215 | Kayak Rental - Expense', '216 | Fishing License - Expense', '217 | Golf Course Green Fee - Expense', '218 | Tennis Court Rental - Expense', '219 | Swimming Pool Entry - Expense', '220 | Gym Day Pass - Expense', '221 | Laser Tag - Expense', '222 | Trampoline Park - Expense', '223 | Freelancing - Income', '224 | Go-Kart Track - Expense']\n",
      ".....transaction text sent to llm..... 200 | Flea Market - Expense, 201 | Food Co-op - Expense, 202 | Yoga Studio - Expense, 203 | Dance Class - Expense, 204 | Language Learning App - Expense, 205 | Online Course - Expense, 206 | Cooking Class - Expense, 207 | Wine Tasting - Expense, 208 | Pottery Workshop - Expense, 209 | Stock Sale - Income, 210 | Karaoke Bar - Expense, 211 | Rock Climbing Gym - Expense, 212 | Surf Shop Rental - Expense, 213 | Ski Pass - Expense, 214 | Camping Equipment Rental - Expense, 215 | Kayak Rental - Expense, 216 | Fishing License - Expense, 217 | Golf Course Green Fee - Expense, 218 | Tennis Court Rental - Expense, 219 | Swimming Pool Entry - Expense, 220 | Gym Day Pass - Expense, 221 | Laser Tag - Expense, 222 | Trampoline Park - Expense, 223 | Freelancing - Income, 224 | Go-Kart Track - Expense\n",
      ".....formatted_transactions..... ['225 | Paintball - Expense', '226 | ATM Withdrawal Fee - Expense', '227 | Bank Transfer Fee - Expense', '228 | Foreign Transaction Fee - Expense', '229 | Credit Card Annual Fee - Expense', '230 | Overdraft Fee - Expense', '231 | Safe Deposit Box Rental - Expense', '232 | Investment Management Fee - Expense', '233 | Clothing Alteration - Expense', '234 | Watch Strap Replacement - Expense', '235 | Shoe Shine - Expense', '236 | Suit Dry Cleaning - Expense', '237 | Leather Goods Repair - Expense', '238 | Jewelry Cleaning - Expense', '239 | Rental Income - Income', '240 | Tire Rotation - Expense', '241 | Oil Change - Expense', '242 | Car Detailing - Expense', '243 | Windshield Wiper Replacement - Expense', '244 | Battery Replacement - Expense', '245 | Brake Pad Replacement - Expense', '246 | Antivirus Software Renewal - Expense', '247 | Cloud Storage Subscription - Expense', '248 | Domain Name Renewal - Expense', '249 | Website Hosting Fee - Expense']\n",
      ".....transaction text sent to llm..... 225 | Paintball - Expense, 226 | ATM Withdrawal Fee - Expense, 227 | Bank Transfer Fee - Expense, 228 | Foreign Transaction Fee - Expense, 229 | Credit Card Annual Fee - Expense, 230 | Overdraft Fee - Expense, 231 | Safe Deposit Box Rental - Expense, 232 | Investment Management Fee - Expense, 233 | Clothing Alteration - Expense, 234 | Watch Strap Replacement - Expense, 235 | Shoe Shine - Expense, 236 | Suit Dry Cleaning - Expense, 237 | Leather Goods Repair - Expense, 238 | Jewelry Cleaning - Expense, 239 | Rental Income - Income, 240 | Tire Rotation - Expense, 241 | Oil Change - Expense, 242 | Car Detailing - Expense, 243 | Windshield Wiper Replacement - Expense, 244 | Battery Replacement - Expense, 245 | Brake Pad Replacement - Expense, 246 | Antivirus Software Renewal - Expense, 247 | Cloud Storage Subscription - Expense, 248 | Domain Name Renewal - Expense, 249 | Website Hosting Fee - Expense\n",
      ".....formatted_transactions..... ['250 | VPN Service - Expense', '251 | Password Manager Subscription - Expense', '252 | Plant Nursery - Expense', '253 | Garden Tools Rental - Expense', '254 | Lawn Mowing Service - Expense', '255 | Tree Trimming Service - Expense', '256 | Pest Control Service - Expense', '257 | GPT Subscription - Expense', '258 | Cafe Mulino - Expense']\n",
      ".....transaction text sent to llm..... 250 | VPN Service - Expense, 251 | Password Manager Subscription - Expense, 252 | Plant Nursery - Expense, 253 | Garden Tools Rental - Expense, 254 | Lawn Mowing Service - Expense, 255 | Tree Trimming Service - Expense, 256 | Pest Control Service - Expense, 257 | GPT Subscription - Expense, 258 | Cafe Mulino - Expense\n",
      "....categorized_expenses (final list)..... ['Salary:\\n    0 | Salary\\n\\nHousing and Utilities:\\n    1 | Rent\\n    2 | Electricity Bill\\n    3 | Water Bill\\n    4 | Internet Service\\n    5 | Home Insurance\\n    8 | Home Insurance\\n\\nTransportation:\\n    13 | Metro Ticket\\n    17 | Metro Ticket\\n    21 | Metro Ticket\\n\\nFood and Drinks:\\n    12 | Café Noir\\n    14 | Lunch at Work Cafeteria\\n    18 | Lunch at Veggie Corner\\n    20 | Café Noir\\n    22 | Lunch at Pasta Paradise\\n\\nGroceries:\\n    15 | Supermarket Express\\n    16 | Bakery Deluxe\\n    24 | Bakery Deluxe\\n\\nHealth and Wellness:\\n    10 | Health Insurance\\n    19 | Pharmacy\\n\\nSubscriptions and Fees:\\n    6 | Gym Membership\\n    7 | Netflix Subscription\\n    11 | Spotify Premium\\n    9 | Car Insurance \\n\\nShopping:\\n    23 | Bookstore', 'Food and Drinks:\\n    26 | Lunch at Sushi Express\\n    30 | Lunch at Burger Bliss\\n    33 | Coffee Bean\\n    34 | Pizza Pronto\\n    36 | Brunch at Sunny Side Up\\n    38 | Ice Cream Parlor\\n    40 | Café Noir\\n    42 | Lunch at Salad Bar\\n    45 | Bakery Deluxe\\n    47 | Lunch at Taco Fiesta\\n    28 | Café Noir\\n    49 | Café Noir\\n\\nShopping:\\n    31 | H&M\\n    43 | Office Supplies Store\\n    32 | Local Market\\n\\nEntertainment:\\n    27 | Cinema Ticket\\n    37 | Museum Entry\\n\\nTransportation:\\n    25 | Metro Ticket\\n    29 | Metro Ticket\\n    41 | Metro Ticket\\n    46 | Metro Ticket\\n\\nGroceries:\\n    39 | Supermarket Express\\n\\nPersonal Care:\\n    48 | Dry Cleaning\\n\\nInvestments:\\n    44 | Dividend Payment', 'Food and Drinks:\\n 51 | Lunch at Pho Delight\\n 55 | Lunch at Greek Taverna\\n 59 | Lunch at Indian Spice\\n 63 | Italian Restaurant\\n 66 | Brunch at Crepe Corner\\n 72 | Lunch at Sandwich Spot\\n 53 | Bakery Deluxe\\n 62 | Coffee Bean\\n 68 | Gelato Shop\\n 70 | Café Noir\\n 57 | Café Noir\\n\\n Transportation:\\n 50 | Metro Ticket\\n 54 | Metro Ticket\\n 58 | Metro Ticket\\n 71 | Metro Ticket\\n\\n Groceries:\\n 61 | Farmers Market\\n 69 | Supermarket Express\\n\\n Shopping:\\n 52 | Electronics Store\\n 60 | Zara\\n 73 | Stationery Shop\\n\\n Entertainment:\\n 56 | Concert Ticket\\n 64 | Movie Rental\\n 67 | Botanical Garden Entry\\n\\n Miscellaneous Expense:\\n 74 | Bakery Deluxe\\n\\n Salary:', 'Entertainment:\\n 96 | Zoo Admission\\n 97 | Food Truck Festival\\n\\nFood and Drinks:\\n 76 | Lunch at Wok & Roll\\n 80 | Lunch at Falafel House\\n 84 | Lunch at Smoothie Bar\\n 89 | Lunch at Ramen House\\n 92 | Coffee Bean\\n 93 | Burger Joint\\n 95 | Brunch at Pancake Palace\\n\\nShopping:\\n 77 | Hardware Store\\n 81 | Sporting Goods Store\\n 85 | Art Supply Shop\\n 90 | Uniqlo\\n 91 | Local Market\\n\\nTransportation:\\n 75 | Metro Ticket\\n 79 | Metro Ticket\\n 82 | Bakery Deluxe\\n 88 | Metro Ticket\\n\\nVehicle Maintenance:\\n 94 | Car Wash\\n\\nInvestments:\\n 86 | Interest Income', 'Food and Drinks:\\n101 | Lunch at Veggie Delight\\n105 | Lunch at Burrito Bowl\\n110 | Lunch at Sushi Train\\n114 | Lunch at Poke Place\\n116 | Café Noir\\n118 | Lunch at Mediterranean Grill\\n122 | Steakhouse\\n123 is moved to another category.\\n \\nTransportation:\\n100 | Metro Ticket\\n104 | Metro Ticket\\n109 | Metro Ticket\\n113 | Metro Ticket\\n117 | Metro Ticket\\n\\nShopping:\\n102 | Phone Accessories Shop\\n111 | Bookstore\\n119 | Home Decor Store\\n\\nSubscriptions and Fees: None\\n\\nHealth and Wellness: None\\n\\nPersonal Care: None\\n\\nEntertainment:\\n115 | Theater Ticket\\n\\nGroceries:\\n120 | Farmers Market\\n( Pet Store and farmers market could be in both categories, adjusted and moved Pet store)\\n\\nVehicle Maintenance:\\n123 | Gas Station\\n\\nMiscellaneous Expense: \\n106 | Pet Store\\n\\nSalary: None\\nInvestments: None\\nMiscellaneous Income:\\n107 | Rental Income', 'Entertainment:\\n    125 | Aquarium Visit \\n    136 | Steam Games\\n    137 | Apple App Store\\n    140 | Google Play Store\\n    147 | Nintendo eShop\\n\\nFood and Drinks:\\n    126 | Ice Cream Truck\\n    129 | Café Noir \\n    131 | Lunch at Noodle Bar\\n    139 | Deliveroo\\n    142 | Uber Eats\\n    149 | Just Eat\\n\\nGroceries:\\n    127 | Supermarket Express\\n\\nShopping:\\n    132 | Office Supplies Store\\n    133 | Amazon.com\\n    135 | Etsy\\n    138 | eBay\\n    141 | AliExpress\\n    143 | Wayfair\\n    145 | ASOS\\n    148 | Zalando\\n\\nTransportation:\\n    130 | Metro Ticket\\n    134 | Uber\\n\\nTravel:\\n    144 | Booking.com\\n    146 | Airbnb\\n\\nInvestments:\\n    128 | Stock Sale', 'Shopping:\\n  150 | Humble Bundle\\n  151 | Wish\\n  154 | Depop\\n  155 | Etsy\\n  156 | Playstation Store\\n  160 | GOG.com\\n  161 | Vinted\\n\\nEntertainment:\\n  157 | Ticketmaster\\n\\nSubscriptions and Fees:\\n  159 | Patreon\\n  162 | Adobe Creative Cloud\\n\\nFood and Drinks:\\n  163 | Local Pub\\n  165 | Food Truck\\n  164 | Convenience Store\\n\\nPersonal Care:\\n  166 | Florist\\n  167 | Barber Shop\\n  168 | Nail Salon\\n\\nTransportation:\\n  169 | Car Park\\n  170 | Bike Rental\\n\\nRepairs and Maintenance:\\n  171 | Laundromat\\n  172 | Shoe Repair\\n  173 | Watch Battery Replacement\\n  174 | Key Cutting\\n\\nMiscellaneous Expense:\\n  152 | Bolt\\n  153 | Bandcamp', 'Shopping:\\n  175 | Photo Printing\\n  176 | Tailor\\n  181 | Vinyl Record Store\\n  182 | Thrift Store\\n  186 | Comic Book Store\\n  196 | University Bookstore\\n  199 | Bike Shop\\n\\nHealth and Wellness:\\n  177 | Eyeglass Repair\\n  193 | Gym Protein Shake\\n\\nRepairs and Maintenance:\\n  178 | Locksmith\\n  179 | Computer Repair\\n  180 | Phone Screen Replacement\\n\\nFood and Drinks:\\n  183 | Craft Beer Shop\\n  184 | Organic Food Store\\n  187 | Board Game Cafe\\n  194 | Office Vending Machine\\n  195 | Street Food Vendor\\n  197 | Campus Cafe\\n\\nEntertainment:\\n  189 | Karaoke Bar\\n  190 | Bowling Alley\\n  191 | Mini Golf\\n  192 | Arcade\\n  198 | Library Late Fee', \"Entertainment:\\n   210 | Karaoke Bar\\n   211 | Rock Climbing Gym\\n   212 | Surf Shop Rental\\n   213 | Ski Pass\\n   214 | Camping Equipment Rental\\n   215 | Kayak Rental\\n   216 | Fishing License\\n   217 | Golf Course Green Fee\\n   218 | Tennis Court Rental\\n   219 | Swimming Pool Entry\\n   220 | Gym Day Pass\\n   221 | Laser Tag\\n   222 | Trampoline Park\\n   224 | Go-Kart Track\\n\\n   Health and Wellness:\\n   202 | Yoga Studio\\n\\nFood and Drinks:\\n   200 | Flea Market\\n   201 | Food Co-op\\n   206 | Cooking Class\\n   207 | Wine Tasting\\n   207 | Wine Tasting\\n\\nShopping:\\n   208 | Pottery Workshop\\n\\nSubscriptions and Fees:\\n   204 | Language Learning App\\n   205 | Online Course\\n\\nMiscellaneous Expense:\\n   203 | Dance Class\\n   209 | Stock Sale -> Stock sale under 'Investments' however transaction comes as expense so categorized under 'Miscellaneous Expense'\\n\\nInvestments:\\n   209 | Stock Sale\", 'Shopping:\\n 233 | Clothing Alteration\\n 235 | Shoe Shine\\n 236 | Suit Dry Cleaning\\n 238 | Jewelry Cleaning\\n\\nVehicle Maintenance:\\n 240 | Tire Rotation\\n 241 | Oil Change\\n 242 | Car Detailing\\n 243 | Windshield Wiper Replacement\\n 244 | Brake Pad Replacement\\n 245 | Battery Replacement\\n\\nSubscriptions and Fees:\\n 246 | Antivirus Software Renewal\\n 247 | Cloud Storage Subscription\\n 248 | Domain Name Renewal\\n 249 | Website Hosting Fee\\n\\nRepairs and Maintenance:\\n 234 | Watch Strap Replacement\\n 237 | Leather Goods Repair\\n\\nMiscellaneous Expense:\\n 225 | Paintball\\n 226 | ATM Withdrawal Fee\\n 227 | Bank Transfer Fee\\n 228 | Foreign Transaction Fee\\n 229 | Credit Card Annual Fee\\n 230 | Overdraft Fee\\n 231 | Safe Deposit Box Rental\\n 232 | Investment Management Fee\\n\\nMiscellaneous Income:\\n 239 | Rental Income', 'Shopping:\\n         250 | VPN Service \\n         251 | Password Manager Subscription \\n         252 | Plant Nursery\\n         253 | Garden Tools Rental \\n         254 | Lawn Mowing Service \\n         255 | Tree Trimming Service \\n         256 | Pest Control Service\\n         257 | GPT Subscription\\n\\nFood and Drinks:\\n         258 | Cafe Mulino']\n"
     ]
    }
   ],
   "source": [
    "'''\n",
    "Loop over the batches of chunks, send each batch to LLm and concatenate the response\n",
    "'''\n",
    "\n",
    "for i in range(0, len(df), chunk_size):\n",
    "    # Select the current batch of expenses\n",
    "    current_transactions = df.iloc[i:i+chunk_size]\n",
    "    formatted_transactions = format_transactions(current_transactions)\n",
    "    categorized_response = categorize_transactions(formatted_transactions)\n",
    "    categorized_transactions.append(categorized_response)\n",
    "print(\"....categorized_expenses (final list).....\",categorized_transactions)\n",
    "    "
   ]
  },
  {
   "cell_type": "code",
   "execution_count": 59,
   "id": "4ed8f6f5-c21d-4860-9313-3c071cb3f67f",
   "metadata": {},
   "outputs": [],
   "source": [
    "'''\n",
    "Postprocessing of the response, creates a tuple with (ID, description, category) for every row, \n",
    "stores all tuples in the list.\n",
    "'''\n",
    "def postprocessing_response(categorized_response):\n",
    "    processed_data = []\n",
    "    \n",
    "    # Split the categorized response by double newline to separate categories\n",
    "    categories = re.split(r'\\n\\n', categorized_response.strip())\n",
    "    \n",
    "    # Iterate over each category block\n",
    "    for category_block in categories:\n",
    "        # Split the category name and the transactions using the colon (\":\")\n",
    "        parts = category_block.split(':')\n",
    "        \n",
    "        # If no valid category or transactions, skip\n",
    "        if len(parts) < 2:\n",
    "            continue\n",
    "        \n",
    "        # Extract category name and transactions block\n",
    "        category_name = parts[0].strip()  # Category name, e.g., 'Housing and Utilities'\n",
    "        transactions_block = parts[1].strip()  # Transactions in this category\n",
    "        \n",
    "        # Find all transactions in the block, using the format Transaction_ID | Description\n",
    "        # We expect the format: \"Transaction_ID | Description\"\n",
    "        transactions = re.findall(r'(\\d+)\\s*\\|\\s*([^\\n]+)', transactions_block)\n",
    "        \n",
    "        # For each transaction, append to processed_data as (Transaction_ID, Description, Category)\n",
    "        for transaction_id, transaction_description in transactions:\n",
    "            processed_data.append((transaction_id.strip(), transaction_description.strip(), category_name))\n",
    "    \n",
    "    return processed_data\n"
   ]
  },
  {
   "cell_type": "code",
   "execution_count": 60,
   "id": "ac8cb4cc-5151-4bf6-8547-7561530e3d2e",
   "metadata": {},
   "outputs": [
    {
     "name": "stdout",
     "output_type": "stream",
     "text": [
      "......all entries......... [('0', 'Salary', 'Salary'), ('1', 'Rent', 'Housing and Utilities'), ('2', 'Electricity Bill', 'Housing and Utilities'), ('3', 'Water Bill', 'Housing and Utilities'), ('4', 'Internet Service', 'Housing and Utilities'), ('5', 'Home Insurance', 'Housing and Utilities'), ('8', 'Home Insurance', 'Housing and Utilities'), ('13', 'Metro Ticket', 'Transportation'), ('17', 'Metro Ticket', 'Transportation'), ('21', 'Metro Ticket', 'Transportation'), ('12', 'Café Noir', 'Food and Drinks'), ('14', 'Lunch at Work Cafeteria', 'Food and Drinks'), ('18', 'Lunch at Veggie Corner', 'Food and Drinks'), ('20', 'Café Noir', 'Food and Drinks'), ('22', 'Lunch at Pasta Paradise', 'Food and Drinks'), ('15', 'Supermarket Express', 'Groceries'), ('16', 'Bakery Deluxe', 'Groceries'), ('24', 'Bakery Deluxe', 'Groceries'), ('10', 'Health Insurance', 'Health and Wellness'), ('19', 'Pharmacy', 'Health and Wellness'), ('6', 'Gym Membership', 'Subscriptions and Fees'), ('7', 'Netflix Subscription', 'Subscriptions and Fees'), ('11', 'Spotify Premium', 'Subscriptions and Fees'), ('9', 'Car Insurance', 'Subscriptions and Fees'), ('23', 'Bookstore', 'Shopping'), ('26', 'Lunch at Sushi Express', 'Food and Drinks'), ('30', 'Lunch at Burger Bliss', 'Food and Drinks'), ('33', 'Coffee Bean', 'Food and Drinks'), ('34', 'Pizza Pronto', 'Food and Drinks'), ('36', 'Brunch at Sunny Side Up', 'Food and Drinks'), ('38', 'Ice Cream Parlor', 'Food and Drinks'), ('40', 'Café Noir', 'Food and Drinks'), ('42', 'Lunch at Salad Bar', 'Food and Drinks'), ('45', 'Bakery Deluxe', 'Food and Drinks'), ('47', 'Lunch at Taco Fiesta', 'Food and Drinks'), ('28', 'Café Noir', 'Food and Drinks'), ('49', 'Café Noir', 'Food and Drinks'), ('31', 'H&M', 'Shopping'), ('43', 'Office Supplies Store', 'Shopping'), ('32', 'Local Market', 'Shopping'), ('27', 'Cinema Ticket', 'Entertainment'), ('37', 'Museum Entry', 'Entertainment'), ('25', 'Metro Ticket', 'Transportation'), ('29', 'Metro Ticket', 'Transportation'), ('41', 'Metro Ticket', 'Transportation'), ('46', 'Metro Ticket', 'Transportation'), ('39', 'Supermarket Express', 'Groceries'), ('48', 'Dry Cleaning', 'Personal Care'), ('44', 'Dividend Payment', 'Investments'), ('51', 'Lunch at Pho Delight', 'Food and Drinks'), ('55', 'Lunch at Greek Taverna', 'Food and Drinks'), ('59', 'Lunch at Indian Spice', 'Food and Drinks'), ('63', 'Italian Restaurant', 'Food and Drinks'), ('66', 'Brunch at Crepe Corner', 'Food and Drinks'), ('72', 'Lunch at Sandwich Spot', 'Food and Drinks'), ('53', 'Bakery Deluxe', 'Food and Drinks'), ('62', 'Coffee Bean', 'Food and Drinks'), ('68', 'Gelato Shop', 'Food and Drinks'), ('70', 'Café Noir', 'Food and Drinks'), ('57', 'Café Noir', 'Food and Drinks'), ('50', 'Metro Ticket', 'Transportation'), ('54', 'Metro Ticket', 'Transportation'), ('58', 'Metro Ticket', 'Transportation'), ('71', 'Metro Ticket', 'Transportation'), ('61', 'Farmers Market', 'Groceries'), ('69', 'Supermarket Express', 'Groceries'), ('52', 'Electronics Store', 'Shopping'), ('60', 'Zara', 'Shopping'), ('73', 'Stationery Shop', 'Shopping'), ('56', 'Concert Ticket', 'Entertainment'), ('64', 'Movie Rental', 'Entertainment'), ('67', 'Botanical Garden Entry', 'Entertainment'), ('74', 'Bakery Deluxe', 'Miscellaneous Expense'), ('96', 'Zoo Admission', 'Entertainment'), ('97', 'Food Truck Festival', 'Entertainment'), ('76', 'Lunch at Wok & Roll', 'Food and Drinks'), ('80', 'Lunch at Falafel House', 'Food and Drinks'), ('84', 'Lunch at Smoothie Bar', 'Food and Drinks'), ('89', 'Lunch at Ramen House', 'Food and Drinks'), ('92', 'Coffee Bean', 'Food and Drinks'), ('93', 'Burger Joint', 'Food and Drinks'), ('95', 'Brunch at Pancake Palace', 'Food and Drinks'), ('77', 'Hardware Store', 'Shopping'), ('81', 'Sporting Goods Store', 'Shopping'), ('85', 'Art Supply Shop', 'Shopping'), ('90', 'Uniqlo', 'Shopping'), ('91', 'Local Market', 'Shopping'), ('75', 'Metro Ticket', 'Transportation'), ('79', 'Metro Ticket', 'Transportation'), ('82', 'Bakery Deluxe', 'Transportation'), ('88', 'Metro Ticket', 'Transportation'), ('94', 'Car Wash', 'Vehicle Maintenance'), ('86', 'Interest Income', 'Investments'), ('101', 'Lunch at Veggie Delight', 'Food and Drinks'), ('105', 'Lunch at Burrito Bowl', 'Food and Drinks'), ('110', 'Lunch at Sushi Train', 'Food and Drinks'), ('114', 'Lunch at Poke Place', 'Food and Drinks'), ('116', 'Café Noir', 'Food and Drinks'), ('118', 'Lunch at Mediterranean Grill', 'Food and Drinks'), ('122', 'Steakhouse', 'Food and Drinks'), ('102', 'Phone Accessories Shop', 'Shopping'), ('111', 'Bookstore', 'Shopping'), ('119', 'Home Decor Store', 'Shopping'), ('115', 'Theater Ticket', 'Entertainment'), ('120', 'Farmers Market', 'Groceries'), ('123', 'Gas Station', 'Vehicle Maintenance'), ('106', 'Pet Store', 'Miscellaneous Expense'), ('125', 'Aquarium Visit', 'Entertainment'), ('136', 'Steam Games', 'Entertainment'), ('137', 'Apple App Store', 'Entertainment'), ('140', 'Google Play Store', 'Entertainment'), ('147', 'Nintendo eShop', 'Entertainment'), ('126', 'Ice Cream Truck', 'Food and Drinks'), ('129', 'Café Noir', 'Food and Drinks'), ('131', 'Lunch at Noodle Bar', 'Food and Drinks'), ('139', 'Deliveroo', 'Food and Drinks'), ('142', 'Uber Eats', 'Food and Drinks'), ('149', 'Just Eat', 'Food and Drinks'), ('127', 'Supermarket Express', 'Groceries'), ('132', 'Office Supplies Store', 'Shopping'), ('133', 'Amazon.com', 'Shopping'), ('135', 'Etsy', 'Shopping'), ('138', 'eBay', 'Shopping'), ('141', 'AliExpress', 'Shopping'), ('143', 'Wayfair', 'Shopping'), ('145', 'ASOS', 'Shopping'), ('148', 'Zalando', 'Shopping'), ('130', 'Metro Ticket', 'Transportation'), ('134', 'Uber', 'Transportation'), ('144', 'Booking.com', 'Travel'), ('146', 'Airbnb', 'Travel'), ('128', 'Stock Sale', 'Investments'), ('150', 'Humble Bundle', 'Shopping'), ('151', 'Wish', 'Shopping'), ('154', 'Depop', 'Shopping'), ('155', 'Etsy', 'Shopping'), ('156', 'Playstation Store', 'Shopping'), ('160', 'GOG.com', 'Shopping'), ('161', 'Vinted', 'Shopping'), ('157', 'Ticketmaster', 'Entertainment'), ('159', 'Patreon', 'Subscriptions and Fees'), ('162', 'Adobe Creative Cloud', 'Subscriptions and Fees'), ('163', 'Local Pub', 'Food and Drinks'), ('165', 'Food Truck', 'Food and Drinks'), ('164', 'Convenience Store', 'Food and Drinks'), ('166', 'Florist', 'Personal Care'), ('167', 'Barber Shop', 'Personal Care'), ('168', 'Nail Salon', 'Personal Care'), ('169', 'Car Park', 'Transportation'), ('170', 'Bike Rental', 'Transportation'), ('171', 'Laundromat', 'Repairs and Maintenance'), ('172', 'Shoe Repair', 'Repairs and Maintenance'), ('173', 'Watch Battery Replacement', 'Repairs and Maintenance'), ('174', 'Key Cutting', 'Repairs and Maintenance'), ('152', 'Bolt', 'Miscellaneous Expense'), ('153', 'Bandcamp', 'Miscellaneous Expense'), ('175', 'Photo Printing', 'Shopping'), ('176', 'Tailor', 'Shopping'), ('181', 'Vinyl Record Store', 'Shopping'), ('182', 'Thrift Store', 'Shopping'), ('186', 'Comic Book Store', 'Shopping'), ('196', 'University Bookstore', 'Shopping'), ('199', 'Bike Shop', 'Shopping'), ('177', 'Eyeglass Repair', 'Health and Wellness'), ('193', 'Gym Protein Shake', 'Health and Wellness'), ('178', 'Locksmith', 'Repairs and Maintenance'), ('179', 'Computer Repair', 'Repairs and Maintenance'), ('180', 'Phone Screen Replacement', 'Repairs and Maintenance'), ('183', 'Craft Beer Shop', 'Food and Drinks'), ('184', 'Organic Food Store', 'Food and Drinks'), ('187', 'Board Game Cafe', 'Food and Drinks'), ('194', 'Office Vending Machine', 'Food and Drinks'), ('195', 'Street Food Vendor', 'Food and Drinks'), ('197', 'Campus Cafe', 'Food and Drinks'), ('189', 'Karaoke Bar', 'Entertainment'), ('190', 'Bowling Alley', 'Entertainment'), ('191', 'Mini Golf', 'Entertainment'), ('192', 'Arcade', 'Entertainment'), ('198', 'Library Late Fee', 'Entertainment'), ('210', 'Karaoke Bar', 'Entertainment'), ('211', 'Rock Climbing Gym', 'Entertainment'), ('212', 'Surf Shop Rental', 'Entertainment'), ('213', 'Ski Pass', 'Entertainment'), ('214', 'Camping Equipment Rental', 'Entertainment'), ('215', 'Kayak Rental', 'Entertainment'), ('216', 'Fishing License', 'Entertainment'), ('217', 'Golf Course Green Fee', 'Entertainment'), ('218', 'Tennis Court Rental', 'Entertainment'), ('219', 'Swimming Pool Entry', 'Entertainment'), ('220', 'Gym Day Pass', 'Entertainment'), ('221', 'Laser Tag', 'Entertainment'), ('222', 'Trampoline Park', 'Entertainment'), ('224', 'Go-Kart Track', 'Entertainment'), ('202', 'Yoga Studio', 'Health and Wellness'), ('200', 'Flea Market', 'Food and Drinks'), ('201', 'Food Co-op', 'Food and Drinks'), ('206', 'Cooking Class', 'Food and Drinks'), ('207', 'Wine Tasting', 'Food and Drinks'), ('207', 'Wine Tasting', 'Food and Drinks'), ('208', 'Pottery Workshop', 'Shopping'), ('204', 'Language Learning App', 'Subscriptions and Fees'), ('205', 'Online Course', 'Subscriptions and Fees'), ('203', 'Dance Class', 'Miscellaneous Expense'), ('209', \"Stock Sale -> Stock sale under 'Investments' however transaction comes as expense so categorized under 'Miscellaneous Expense'\", 'Miscellaneous Expense'), ('209', 'Stock Sale', 'Investments'), ('233', 'Clothing Alteration', 'Shopping'), ('235', 'Shoe Shine', 'Shopping'), ('236', 'Suit Dry Cleaning', 'Shopping'), ('238', 'Jewelry Cleaning', 'Shopping'), ('240', 'Tire Rotation', 'Vehicle Maintenance'), ('241', 'Oil Change', 'Vehicle Maintenance'), ('242', 'Car Detailing', 'Vehicle Maintenance'), ('243', 'Windshield Wiper Replacement', 'Vehicle Maintenance'), ('244', 'Brake Pad Replacement', 'Vehicle Maintenance'), ('245', 'Battery Replacement', 'Vehicle Maintenance'), ('246', 'Antivirus Software Renewal', 'Subscriptions and Fees'), ('247', 'Cloud Storage Subscription', 'Subscriptions and Fees'), ('248', 'Domain Name Renewal', 'Subscriptions and Fees'), ('249', 'Website Hosting Fee', 'Subscriptions and Fees'), ('234', 'Watch Strap Replacement', 'Repairs and Maintenance'), ('237', 'Leather Goods Repair', 'Repairs and Maintenance'), ('225', 'Paintball', 'Miscellaneous Expense'), ('226', 'ATM Withdrawal Fee', 'Miscellaneous Expense'), ('227', 'Bank Transfer Fee', 'Miscellaneous Expense'), ('228', 'Foreign Transaction Fee', 'Miscellaneous Expense'), ('229', 'Credit Card Annual Fee', 'Miscellaneous Expense'), ('230', 'Overdraft Fee', 'Miscellaneous Expense'), ('231', 'Safe Deposit Box Rental', 'Miscellaneous Expense'), ('232', 'Investment Management Fee', 'Miscellaneous Expense'), ('239', 'Rental Income', 'Miscellaneous Income'), ('250', 'VPN Service', 'Shopping'), ('251', 'Password Manager Subscription', 'Shopping'), ('252', 'Plant Nursery', 'Shopping'), ('253', 'Garden Tools Rental', 'Shopping'), ('254', 'Lawn Mowing Service', 'Shopping'), ('255', 'Tree Trimming Service', 'Shopping'), ('256', 'Pest Control Service', 'Shopping'), ('257', 'GPT Subscription', 'Shopping'), ('258', 'Cafe Mulino', 'Food and Drinks')]\n"
     ]
    }
   ],
   "source": [
    "all_entries = []\n",
    "\n",
    "for text in categorized_transactions:\n",
    "    all_entries.extend(postprocessing_response(text))\n",
    "\n",
    "\n",
    "print(\"......all entries.........\",all_entries)"
   ]
  },
  {
   "cell_type": "code",
   "execution_count": 61,
   "id": "329743b6-fc2f-40d8-9575-485b06c41080",
   "metadata": {},
   "outputs": [],
   "source": [
    "# Create a DataFrame from the extracted data\n",
    "df_expenses = pd.DataFrame(all_entries, columns=[\"Transaction_ID\", \"Description\", \"Category\"])\n",
    "# \n",
    "df_expenses['Transaction_ID'] = df_expenses['Transaction_ID'].astype(int)"
   ]
  },
  {
   "cell_type": "code",
   "execution_count": 62,
   "id": "4b925221-77f5-4a10-8f9e-469f861412ee",
   "metadata": {},
   "outputs": [],
   "source": [
    "df_expenses.to_csv('categorized_transactions(LLM response).csv',index=False)"
   ]
  },
  {
   "cell_type": "code",
   "execution_count": 63,
   "id": "b34394d4-93c5-43dd-8fe6-8367ae8702be",
   "metadata": {},
   "outputs": [
    {
     "name": "stdout",
     "output_type": "stream",
     "text": [
      "        Date          Description_x  Amount (EUR) Transaction Type  \\\n",
      "0     9/1/24                 Salary       3500.00           Income   \n",
      "1     9/1/24                   Rent       1200.00          Expense   \n",
      "2     9/1/24       Electricity Bill         75.50          Expense   \n",
      "3     9/1/24             Water Bill         30.00          Expense   \n",
      "4     9/1/24       Internet Service         45.00          Expense   \n",
      "..       ...                    ...           ...              ...   \n",
      "256  9/15/24    Lawn Mowing Service         40.00          Expense   \n",
      "257  9/20/24  Tree Trimming Service        150.00          Expense   \n",
      "258  9/25/24   Pest Control Service         85.00          Expense   \n",
      "259  9/30/24       GPT Subscription         24.99          Expense   \n",
      "260  9/30/24            Cafe Mulino         12.99          Expense   \n",
      "\n",
      "     Transaction_ID          Description_y               Category  \n",
      "0                 0                 Salary                 Salary  \n",
      "1                 1                   Rent  Housing and Utilities  \n",
      "2                 2       Electricity Bill  Housing and Utilities  \n",
      "3                 3             Water Bill  Housing and Utilities  \n",
      "4                 4       Internet Service  Housing and Utilities  \n",
      "..              ...                    ...                    ...  \n",
      "256             254    Lawn Mowing Service               Shopping  \n",
      "257             255  Tree Trimming Service               Shopping  \n",
      "258             256   Pest Control Service               Shopping  \n",
      "259             257       GPT Subscription               Shopping  \n",
      "260             258            Cafe Mulino        Food and Drinks  \n",
      "\n",
      "[261 rows x 7 columns]\n"
     ]
    }
   ],
   "source": [
    "final_df=pd.merge(df, df_expenses, on=\"Transaction_ID\", how=\"left\")\n",
    "final_df.head()\n",
    "print(final_df)"
   ]
  },
  {
   "cell_type": "code",
   "execution_count": 64,
   "id": "5de62184-ae51-4da2-a5b6-f502e7e57271",
   "metadata": {},
   "outputs": [],
   "source": [
    "final_df.to_csv('categorized_transactions.csv',index=False)"
   ]
  },
  {
   "cell_type": "code",
   "execution_count": null,
   "id": "9be57558-11db-41ee-8980-4b702ad7e8db",
   "metadata": {},
   "outputs": [],
   "source": [
    "\n",
    "    \n",
    "    '''\n",
    "    # Define mappings of similar categories to unified names (without prompt engineering)\n",
    "    if \"food\" in category or \"dining\" in category or in category or \"snacks\" in category or \"beverages\" in category:\n",
    "        return \"Food and Drinks\"\n",
    "    elif \"transportation\" in category or \"vehicle\" in category:\n",
    "        return \"Transportation\"\n",
    "    elif \"entertainment\" in category or \"recreation\" in category:\n",
    "        return \"Entertainment\"\n",
    "    elif \"housing\" in category or \"bill\" in category or \"utilities\" in category or \"home\" in category:\n",
    "        return \"Housing and Utilities\"\n",
    "    elif \"health\" in category or \"wellness\" in category or \"pets\" in category:\n",
    "        return \"Health and Wellness\"\n",
    "    elif \"shopping\" in category or \"miscellaneous\" in category or \"non-food\" in category:\n",
    "        return \"Shopping\"\n",
    "    elif \"finance\" in category or \"banking\" in category or \"insurance\" in category or \"fees\" in category or \"technology\" in category \"digital\" in category:\n",
    "        return \"Subscription and Fees\"\n",
    "    elif \"personal\" in category or \"care\" in category or \"services\" in category or \"beauty\" in category:\n",
    "        return \"Personal Care\"\n",
    "    elif \"office\" in category or \"education\" in category or \"school\" in category:\n",
    "        return \"Education\"\n",
    "    elif \"garden\" in category or \"home\" in category or \"repair\" in category:\n",
    "        return \"Maintenance and Repair\"\n",
    "    else:\n",
    "        return category\n",
    "    '''\n",
    "\n",
    "\n",
    "    "
   ]
  }
 ],
 "metadata": {
  "kernelspec": {
   "display_name": "Python 3 (ipykernel)",
   "language": "python",
   "name": "python3"
  },
  "language_info": {
   "codemirror_mode": {
    "name": "ipython",
    "version": 3
   },
   "file_extension": ".py",
   "mimetype": "text/x-python",
   "name": "python",
   "nbconvert_exporter": "python",
   "pygments_lexer": "ipython3",
   "version": "3.12.4"
  }
 },
 "nbformat": 4,
 "nbformat_minor": 5
}
