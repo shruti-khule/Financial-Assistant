{
 "cells": [
  {
   "cell_type": "code",
   "execution_count": 1,
   "id": "4228ca88-ceb2-4ee5-b48b-91ab1897ec6a",
   "metadata": {},
   "outputs": [],
   "source": [
    "from dotenv import load_dotenv\n",
    "import os\n",
    "from langchain_groq import ChatGroq\n",
    "import pandas as pd\n",
    "import re"
   ]
  },
  {
   "cell_type": "code",
   "execution_count": 2,
   "id": "de90c2b9-9022-4345-8bc8-9985b824a379",
   "metadata": {},
   "outputs": [],
   "source": [
    "load_dotenv(\"secret.env\")\n",
    "api_key = os.getenv(\"GROQ_API_KEY\")"
   ]
  },
  {
   "cell_type": "code",
   "execution_count": 3,
   "id": "90c8c16d-5c4d-4b3c-8520-249ef003fd60",
   "metadata": {},
   "outputs": [],
   "source": [
    "# Initialize LLM\n",
    "llm = ChatGroq(\n",
    "    model=\"llama-3.1-70b-versatile\",\n",
    "    groq_api_key=api_key,\n",
    "    temperature=0.9,\n",
    "    max_tokens=None,\n",
    "    timeout=None,\n",
    "    max_retries=2\n",
    ")"
   ]
  },
  {
   "cell_type": "code",
   "execution_count": 4,
   "id": "4c1b0c98-600e-42fd-976f-a2724a2422af",
   "metadata": {},
   "outputs": [],
   "source": [
    "# Prompt Engineering\n",
    "\n",
    "from langchain_core.prompts import PromptTemplate\n",
    "\n",
    "prompt_categorization = PromptTemplate.from_template(\n",
    "    \"\"\"\n",
    "    You are a financial assistant. Your task is to categorize the following list of expenses into appropriate categories. \n",
    "    \n",
    "    Instructions:\n",
    "    1. Use the expenses provided.\n",
    "    2. Categorize each expense based on the most relevant, commonly used categories. Assume that the expense name (such as a coffee shop or a retail store) reflects the nature of the transaction, even if it's not explicitly labeled.\n",
    "       Commonly used categories:\n",
    "        - Housing and Utilities: Include all the Housing and utilities such as rent, water bill, etc.\n",
    "        - Transportation: Include all transportation-related expenses such as metro, taxis, etc.\n",
    "        - Vehicle Maintenance: Include all car-related expenses such as car repairs, car washes, gas etc.\n",
    "        - Food and Drinks: Combine any dining, coffee, restaurants, or snack-related expenses.\n",
    "        - Groceries: Include supermarket and grocery store purchases.\n",
    "        - Health and Wellness: Include expenses related to healthcare, pharmacies, gym memberships, etc.\n",
    "        - Personal Care: Combine any beauty or personal grooming services like salons, spas, and barbershops.\n",
    "        - Shopping: Combine all retail or online shopping expenses, including clothing, electronics, and household goods.\n",
    "        - Entertainment: Include expenses for movies, streaming services, concerts, and any leisure activities.\n",
    "        - Repairs and Maintenance: Include expenses related to any maintenance and repairs except the car such as locksmith, broken TV repair, etc.\n",
    "        - Subscriptions and Fees: Include all the fees and subscription charges.\n",
    "    3. If the category is unclear from the name, use your best judgment to place the expense into the most suitable existing category. If nothing is suitable then put the expense under Miscellaneous.\n",
    "    4. Include the full details of each expense (date, description, and amount) in your categorization.\n",
    "    \n",
    "    Format your response like this:\n",
    "    Category Name:\n",
    "    - Date - Description - Amount\n",
    "\n",
    "    Expenses to categorize:\n",
    "    {expenses}\n",
    "\n",
    "    \"\"\"\n",
    ")\n"
   ]
  },
  {
   "cell_type": "code",
   "execution_count": 5,
   "id": "cd23ef5c-340f-4c0f-a196-4b80fd381bd3",
   "metadata": {},
   "outputs": [
    {
     "data": {
      "text/html": [
       "<div>\n",
       "<style scoped>\n",
       "    .dataframe tbody tr th:only-of-type {\n",
       "        vertical-align: middle;\n",
       "    }\n",
       "\n",
       "    .dataframe tbody tr th {\n",
       "        vertical-align: top;\n",
       "    }\n",
       "\n",
       "    .dataframe thead th {\n",
       "        text-align: right;\n",
       "    }\n",
       "</style>\n",
       "<table border=\"1\" class=\"dataframe\">\n",
       "  <thead>\n",
       "    <tr style=\"text-align: right;\">\n",
       "      <th></th>\n",
       "      <th>Date</th>\n",
       "      <th>Description</th>\n",
       "      <th>Amount (EUR)</th>\n",
       "    </tr>\n",
       "  </thead>\n",
       "  <tbody>\n",
       "    <tr>\n",
       "      <th>0</th>\n",
       "      <td>2024-09-01</td>\n",
       "      <td>Rent</td>\n",
       "      <td>1200.0</td>\n",
       "    </tr>\n",
       "    <tr>\n",
       "      <th>1</th>\n",
       "      <td>2024-09-01</td>\n",
       "      <td>Electricity Bill</td>\n",
       "      <td>75.5</td>\n",
       "    </tr>\n",
       "    <tr>\n",
       "      <th>2</th>\n",
       "      <td>2024-09-01</td>\n",
       "      <td>Water Bill</td>\n",
       "      <td>30.0</td>\n",
       "    </tr>\n",
       "    <tr>\n",
       "      <th>3</th>\n",
       "      <td>2024-09-01</td>\n",
       "      <td>Internet Service</td>\n",
       "      <td>45.0</td>\n",
       "    </tr>\n",
       "    <tr>\n",
       "      <th>4</th>\n",
       "      <td>2024-09-01</td>\n",
       "      <td>Mobile Phone Plan</td>\n",
       "      <td>35.0</td>\n",
       "    </tr>\n",
       "  </tbody>\n",
       "</table>\n",
       "</div>"
      ],
      "text/plain": [
       "         Date        Description  Amount (EUR)\n",
       "0  2024-09-01               Rent        1200.0\n",
       "1  2024-09-01   Electricity Bill          75.5\n",
       "2  2024-09-01         Water Bill          30.0\n",
       "3  2024-09-01   Internet Service          45.0\n",
       "4  2024-09-01  Mobile Phone Plan          35.0"
      ]
     },
     "execution_count": 5,
     "metadata": {},
     "output_type": "execute_result"
    }
   ],
   "source": [
    "# Read csv of monthly expenses\n",
    "df = pd.read_csv(\"monthly-expenses.csv\")\n",
    "df.head()"
   ]
  },
  {
   "cell_type": "code",
   "execution_count": 6,
   "id": "1b60139a-d490-4a03-b3f5-63ee8086599c",
   "metadata": {},
   "outputs": [],
   "source": [
    "'''\n",
    "For each row, it formats the Date, Description, and Amount (EUR) into a single string with hyphens so that, LLM can more easily interpret them.\n",
    "['2024-09-01 - Rent - 1200.0 EUR',....]\n",
    "'''\n",
    "\n",
    "def format_expenses(expenses):\n",
    "    formatted_expenses = []\n",
    "    for _, row in expenses.iterrows():\n",
    "        formatted_expenses.append(f\"{row['Date']} - {row['Description']} - {row['Amount (EUR)']} EUR\")\n",
    "    return formatted_expenses\n"
   ]
  },
  {
   "cell_type": "code",
   "execution_count": 7,
   "id": "d9d9cf2f-d5a4-420b-8aaa-88c34acd8cd9",
   "metadata": {},
   "outputs": [],
   "source": [
    "'''\n",
    "converts the list of formatted expenses into a single text string seperated by ',' \n",
    "expense_text: 2024-09-01 - Rent - 1200.0 EUR, 2024-09-01 - Electricity Bill - 75.5 EUR,...\n",
    "Sends expense_text to LLM\n",
    "'''\n",
    "\n",
    "def categorize_expenses(expense_list):\n",
    "    expense_text = ', '.join(expense_list)\n",
    "    chain_categorization = prompt_categorization | llm\n",
    "    response = chain_categorization.invoke({\"expenses\": expense_text})\n",
    "    return response.content\n"
   ]
  },
  {
   "cell_type": "code",
   "execution_count": 8,
   "id": "8f281213-2f75-46fb-acc9-2af3e28590b8",
   "metadata": {},
   "outputs": [],
   "source": [
    "# Defining chunk size due to context limit\n",
    "chunk_size=50\n",
    "# Empty list to append results of each chunk batch\n",
    "categorized_expenses=[]"
   ]
  },
  {
   "cell_type": "code",
   "execution_count": 9,
   "id": "4851095f-8541-4592-bb2c-253434f57d7c",
   "metadata": {
    "scrolled": true
   },
   "outputs": [
    {
     "name": "stdout",
     "output_type": "stream",
     "text": [
      "....categorized_expenses (final list)..... ['Housing and Utilities:\\n- 2024-09-01 - Rent - 1200.0 EUR\\n- 2024-09-01 - Electricity Bill - 75.5 EUR\\n- 2024-09-01 - Water Bill - 30.0 EUR\\n- 2024-09-01 - Internet Service - 45.0 EUR\\n- 2024-09-01 - Home Insurance - 58.33 EUR\\n\\nTransportation:\\n- 2024-09-02 - Metro Ticket - 2.8 EUR\\n- 2024-09-03 - Metro Ticket - 2.8 EUR\\n- 2024-09-04 - Metro Ticket - 2.8 EUR\\n- 2024-09-05 - Metro Ticket - 2.8 EUR\\n- 2024-09-06 - Metro Ticket - 2.8 EUR\\n- 2024-09-07 - Metro Ticket - 2.8 EUR\\n- 2024-09-09 - Metro Ticket - 2.8 EUR\\n- 2024-09-10 - Metro Ticket - 2.8 EUR\\n- 2024-09-11 - Metro Ticket - 2.8 EUR\\n\\nVehicle Maintenance:\\n- 2024-09-07 - Gas Station - 65.0 EUR\\n- 2024-09-01 - Car Insurance - 83.33 EUR\\n\\nFood and Drinks:\\n- 2024-09-02 - Café Noir - 3.5 EUR\\n- 2024-09-02 - Work Cafeteria - 8.5 EUR\\n- 2024-09-03 - Bakery Deluxe - 4.75 EUR\\n- 2024-09-03 - Veggie Corner - 11.5 EUR\\n- 2024-09-04 - Café Noir - 3.5 EUR\\n- 2024-09-04 - Pasta Paradise - 13.75 EUR\\n- 2024-09-05 - Bakery Deluxe - 4.75 EUR\\n- 2024-09-05 - Sushi Express - 14.5 EUR\\n- 2024-09-06 - Café Noir - 3.5 EUR\\n- 2024-09-06 - Burger Bliss - 10.99 EUR\\n- 2024-09-07 - Local Market - 35.75 EUR\\n- 2024-09-07 - Coffee Bean - 4.25 EUR\\n- 2024-09-07 - Pizza Pronto - 18.5 EUR\\n- 2024-09-08 - Sunny Side Up - 22.5 EUR\\n- 2024-09-08 - Ice Cream Parlor - 6.5 EUR\\n- 2024-09-09 - Café Noir - 3.5 EUR\\n- 2024-09-09 - Salad Bar - 9.75 EUR\\n- 2024-09-10 - Bakery Deluxe - 4.75 EUR\\n- 2024-09-10 - Taco Fiesta - 12.5 EUR\\n- 2024-09-11 - Café Milano - 3.5 EUR\\n- 2024-09-11 - Pho Delight - 11.25 EUR\\n\\nGroceries:\\n- 2024-09-02 - Supermarket Express - 22.45 EUR\\n- 2024-09-08 - Supermarket - 28.75 EUR\\n\\nHealth and Wellness:\\n- 2024-09-01 - Gym Membership - 50.0 EUR\\n- 2024-09-01 - Health Insurance - 150.0 EUR\\n- 2024-09-03 - Pharmacy - 15.6 EUR\\n\\nShopping:\\n- 2024-09-04 - Bookstore - 24.99 EUR\\n- 2024-09-06 - H&M - 45.0 EUR\\n- 2024-09-09 - Office Supplies Store - 13.25 EUR\\n\\nEntertainment:\\n- 2024-09-01 - Netflix Subscription - 12.99 EUR\\n- 2024-09-01 - Spotify Premium - 9.99 EUR\\n- 2024-09-05 - Cinema Ticket - 12.0 EUR\\n- 2024-09-08 - Museum Entry - 15.0 EUR\\n\\nSubscriptions and Fees:\\n- 2024-09-01 - Mobile Phone Plan - 35.0 EUR', \"Entertainment:\\n- 2024-09-12 - Concert Ticket - 55.0 EUR\\n- 2024-09-14 - Movie Rental - 4.99 EUR\\n- 2024-09-15 - Botanical Garden Entry - 8.0 EUR\\n- 2024-09-22 - Zoo Admission - 20.0 EUR\\n- 2024-09-22 - Food Truck Festival - 25.5 EUR\\n\\nFood and Drinks:\\n- 2024-09-12 - Bakery Deluxe - 4.75 EUR\\n- 2024-09-12 - Greek Taverna - 14.75 EUR\\n- 2024-09-13 - Café Noir - 3.5 EUR\\n- 2024-09-13 - Indian Spice - 13.5 EUR\\n- 2024-09-14 - Coffee Bean - 4.25 EUR\\n- 2024-09-14 - L'osteria Italian Restaurant - 35.75 EUR\\n- 2024-09-15 - Crepe Corner - 19.5 EUR\\n- 2024-09-15 - Gelato Shop - 5.5 EUR\\n- 2024-09-16 - Café Romana - 3.5 EUR\\n- 2024-09-16 - Sandwich Spot - 8.99 EUR\\n- 2024-09-17 - Bakery Deluxe - 4.75 EUR\\n- 2024-09-17 - Wok & Roll - 12.25 EUR\\n- 2024-09-18 - Café Noir - 3.5 EUR\\n- 2024-09-18 - Falafel House - 10.5 EUR\\n- 2024-09-19 - Bakery Deluxe - 4.75 EUR\\n- 2024-09-19 - Smoothie Bar - 7.99 EUR\\n- 2024-09-20 - Café Noir - 3.5 EUR\\n- 2024-09-20 - Ramen House - 13.75 EUR\\n- 2024-09-21 - Burger Joint - 16.5 EUR\\n- 2024-09-22 - Pancake Palace - 21.0 EUR\\n- 2024-09-23 - Café Noir - 3.5 EUR\\n- 2024-09-23 - Veggie Delight - 11.25 EUR\\n- 2024-09-24 - Bakery Deluxe - 4.75 EUR\\n\\nGroceries:\\n- 2024-09-14 - Farmers Market - 42.5 EUR\\n- 2024-09-15 - Supermarket Express - 31.25 EUR\\n- 2024-09-21 - Local Market - 38.25 EUR\\n- 2024-09-22 - Supermarket Express - 26.75 EUR\\n\\nShopping:\\n- 2024-09-11 - MediaMarkt Electronics Store - 89.99 EUR\\n- 2024-09-13 - Zara - 68.0 EUR\\n- 2024-09-18 - Decathlon Sporting Store - 75.0 EUR\\n- 2024-09-19 - Idee Art Supply Shop - 32.5 EUR\\n- 2024-09-20 - Uniqlo - 55.0 EUR\\n- 2024-09-23 - Phone Accessories Shop - 19.99 EUR\\n\\nTransportation:\\n- 2024-09-12 - Metro Ticket - 2.8 EUR\\n- 2024-09-13 - Metro Ticket - 2.8 EUR\\n- 2024-09-16 - Metro Ticket - 2.8 EUR\\n- 2024-09-17 - Metro Ticket - 2.8 EUR\\n- 2024-09-18 - Metro Ticket - 2.8 EUR\\n- 2024-09-19 - Metro Ticket - 2.8 EUR\\n- 2024-09-20 - Metro Ticket - 2.8 EUR\\n- 2024-09-23 - Metro Ticket - 2.8 EUR\\n\\nVehicle Maintenance:\\n- 2024-09-21 - Car Wash - 15.0 EUR\\n\\nRepairs and Maintenance:\\n- No expenses in this category.\\n\\nHealth and Wellness:\\n- No expenses in this category.\\n\\nPersonal Care:\\n- No expenses in this category.\\n\\nSubscriptions and Fees:\\n- No expenses in this category.\\n\\nHousing and Utilities:\\n- No expenses in this category.\\n\\nMiscellaneous:\\n- 2024-09-16 - Stationery Shop - 7.5 EUR (Shopping is a more suitable category)\\n- 2024-09-17 - Hardware Store - 28.5 EUR (Repairs and Maintenance could be a category if this was for home maintenance but Hardware Store could imply personal projects and hobbies, so considering it as Shopping)\", 'Transportation:\\n- 2024-09-24 - Metro Ticket - 2.8 EUR\\n- 2024-09-25 - Metro Ticket - 2.8 EUR\\n- 2024-09-26 - Metro Ticket - 2.8 EUR\\n- 2024-09-27 - Metro Ticket - 2.8 EUR\\n- 2024-09-30 - Metro Ticket - 2.8 EUR\\n- 2024-09-02 - Uber - 12.5 EUR\\n- 2024-09-20 - Bolt - 10.75 EUR\\n\\nVehicle Maintenance:\\n- 2024-09-28 - Gas Station - 62.0 EUR\\n\\nFood and Drinks:\\n- 2024-09-24 - Burrito Bowl - 12.75 EUR\\n- 2024-09-25 - Sushi Train - 15.5 EUR\\n- 2024-09-25 - Café Noir - 3.5 EUR\\n- 2024-09-26 - Bakery Deluxe - 4.75 EUR\\n- 2024-09-26 - Poke Place - 13.25 EUR\\n- 2024-09-27 - Café Noir - 3.5 EUR\\n- 2024-09-27 - Mediterranean Grill - 14.25 EUR\\n- 2024-09-28 - Coffee Bean - 4.25 EUR\\n- 2024-09-28 - Steakhouse - 48.5 EUR\\n- 2024-09-29 - Avocado Toast - 23.5 EUR\\n- 2024-09-29 - Ice Cream Truck - 4.5 EUR\\n- 2024-09-30 - Café Noir - 3.5 EUR\\n- 2024-09-30 - Noodle Bar - 11.75 EUR\\n- 2024-09-09 - Deliveroo - 22.75 EUR\\n- 2024-09-10 - Uber Eats - 18.25 EUR\\n- 2024-09-17 - Just Eat - 20.5 EUR\\n\\nGroceries:\\n- 2024-09-27 - Farmers Market - 45.75 EUR\\n- 2024-09-29 - Supermarket Express - 29.75 EUR\\n- 2024-09-24 - Pet Store - 45.0 EUR\\n\\nHealth and Wellness:\\n- \\n\\nPersonal Care:\\n- \\n\\nShopping:\\n- 2024-09-25 - Bookstore - 32.99 EUR\\n- 2024-09-27 - Ikea - 65.0 EUR\\n- 2024-09-30 - Office Supplies Store - 16.5 EUR\\n- 2024-09-01 - Amazon.com - 34.99 EUR\\n- 2024-09-03 - Etsy - 28.0 EUR\\n- 2024-09-06 - eBay - 41.25 EUR\\n- 2024-09-09 - AliExpress - 15.5 EUR\\n- 2024-09-11 - Wayfair - 79.99 EUR\\n- 2024-09-13 - ASOS - 62.5 EUR\\n- 2024-09-16 - Zalando - 47.25 EUR\\n- 2024-09-22 - Depop - 35.0 EUR\\n- 2024-09-23 - Etsy - 23.5 EUR\\n\\nEntertainment:\\n- 2024-09-26 - Theater Ticket - 40.0 EUR\\n- 2024-09-04 - Steam Games - 19.99 EUR\\n- 2024-09-05 - Apple App Store - 4.99 EUR\\n- 2024-09-08 - Google Play Store - 2.99 EUR\\n- 2024-09-15 - Nintendo eShop - 59.99 EUR\\n- 2024-09-18 - Humble Bundle - 15.0 EUR\\n- 2024-09-21 - Bandcamp - 12.0 EUR\\n- 2024-09-29 - Aquarium Visit - 25.0 EUR\\n\\nRepairs and Maintenance:\\n- \\n\\nSubscriptions and Fees:\\n- \\n\\nMiscellaneous:\\n- 2024-09-12 - Booking.com - 150.0 EUR\\n- 2024-09-14 - Airbnb - 95.0 EUR\\n- 2024-09-19 - Wish - 9.99 EUR', 'Entertainment:\\n- 2024-09-24 - Playstation Store - 29.99 EUR\\n- 2024-09-25 - Ticketmaster - 85.0 EUR\\n- 2024-09-28 - GOG.com - 14.99 EUR\\n- 2024-09-30 - Adobe Creative Cloud - 29.99 EUR\\n- 2024-09-26 - Board Game Cafe - 15.0 EUR\\n- 2024-09-27 - Escape Room - 25.0 EUR\\n- 2024-09-28 - Karaoke Bar - 35.0 EUR\\n- 2024-09-29 - Bowling Alley - 28.0 EUR\\n- 2024-09-30 - Mini Golf - 12.0 EUR\\n- 2024-09-30 - Arcade - 20.0 EUR\\n- 2024-09-11 - Dance Class - 25.0 EUR\\n- 2024-09-27 - Patreon - 5.0 EUR\\n\\nFood and Drinks:\\n- 2024-09-01 - Local Pub - 28.5 EUR\\n- 2024-09-03 - Food Truck - 9.5 EUR\\n- 2024-09-02 - Convenience Store - 7.25 EUR\\n- 2024-09-03 - Street Food Vendor - 7.5 EUR\\n- 2024-09-05 - Campus Cafe - 6.75 EUR\\n- 2024-09-01 - Office Vending Machine - 2.0 EUR\\n- 2024-09-02 - Gym Protein Shake - 5.5 EUR\\n\\nGroceries:\\n- 2024-09-22 - Organic Food Store - 55.0 EUR\\n- 2024-09-09 - Food Co-op - 38.5 EUR\\n- 2024-09-06 - Convenience Store - 7.25 EUR\\n\\nPersonal Care:\\n- 2024-09-05 - Barber Shop - 30.0 EUR\\n- 2024-09-06 - Nail Salon - 35.0 EUR\\n\\nShopping:\\n- 2024-09-29 - Vinted - 18.75 EUR\\n- 2024-09-10 - Titan watches - 12.5 EUR\\n- 2024-09-19 - Vinyl Record Store - 32.0 EUR\\n- 2024-09-20 - Thrift Store - 17.5 EUR\\n- 2024-09-21 - Craft Beer Shop - 24.0 EUR\\n- 2024-09-23 - Vape Shop - 30.0 EUR\\n- 2024-09-24 - Comic Book Store - 22.5 EUR\\n- 2024-09-04 - University Bookstore - 65.0 EUR\\n- 2024-09-08 - Flea Market - 28.0 EUR\\n\\nTransportation:\\n- 2024-09-07 - Car Park - 6.5 EUR\\n- 2024-09-08 - Bike Rental - 15.0 EUR\\n- 2024-09-07 - Bike Shop - 42.0 EUR\\n\\nRepairs and Maintenance:\\n- 2024-09-10 - Shoe Repair - 18.0 EUR\\n- 2024-09-12 - Key Cutting - 5.0 EUR\\n- 2024-09-14 - Tailor - 45.0 EUR\\n- 2024-09-15 - Eyeglass Repair - 25.0 EUR\\n- 2024-09-16 - Locksmith - 75.0 EUR\\n- 2024-09-17 - Computer Repair - 85.0 EUR\\n- 2024-09-18 - Phone Screen Replacement - 120.0 EUR\\n- 2024-09-13 - Photo Printing - 10.0 EUR\\n\\nHealth and Wellness:\\n- 2024-09-10 - Yoga Studio - 18.0 EUR\\n\\nSubscriptions and Fees:\\n- 2024-09-24 - Revolut Top-up - 100.0 EUR\\n- 2024-09-12 - Language Learning App - 9.99 EUR\\n- 2024-09-13 - Online Course - 49.99 EUR\\n- 2024-09-06 - Library Late Fee - 3.5 EUR', 'Entertainment:\\n- 2024-09-14 - Cooking Class - 35.0 EUR\\n- 2024-09-15 - Wine Tasting - 30.0 EUR\\n- 2024-09-16 - Pottery Workshop - 40.0 EUR\\n- 2024-09-17 - Rock Climbing Gym - 22.0 EUR\\n- 2024-09-26 - Laser Tag - 18.0 EUR\\n- 2024-09-28 - Trampoline Park - 20.0 EUR\\n- 2024-09-29 - Go-Kart Track - 30.0 EUR\\n- 2024-09-30 - Paintball - 35.0 EUR\\n\\nSubscriptions and Fees:\\n- 2024-09-01 - ATM Withdrawal Fee - 2.5 EUR\\n- 2024-09-05 - Bank Transfer Fee - 1.0 EUR\\n- 2024-09-10 - Foreign Transaction Fee - 3.75 EUR\\n- 2024-09-15 - Credit Card Annual Fee - 59.0 EUR\\n- 2024-09-20 - Overdraft Fee - 35.0 EUR\\n- 2024-09-25 - Safe Deposit Box Rental - 25.0 EUR\\n- 2024-09-30 - Investment Management Fee - 50.0 EUR\\n- 2024-09-04 - Antivirus Software Renewal - 39.99 EUR\\n- 2024-09-09 - Cloud Storage Subscription - 9.99 EUR\\n- 2024-09-14 - Domain Name Renewal - 14.99 EUR\\n- 2024-09-19 - Website Hosting Fee - 12.99 EUR\\n- 2024-09-24 - VPN Service - 8.99 EUR\\n- 2024-09-29 - Password Manager Subscription - 3.99 EUR\\n\\nHealth and Wellness:\\n- 2024-09-27 - Gym Day Pass - 12.0 EUR\\n- 2024-09-24 - Tennis Court Rental - 15.0 EUR\\n- 2024-09-25 - Swimming Pool Entry - 8.0 EUR\\n- 2024-09-18 - Surf Shop Rental - 35.0 EUR\\n- 2024-09-19 - Ski Pass - 65.0 EUR\\n- 2024-09-20 - Camping Equipment Rental - 50.0 EUR\\n- 2024-09-21 - Kayak Rental - 40.0 EUR\\n- 2024-09-22 - Fishing License - 25.0 EUR\\n- 2024-09-23 - Golf Course Green Fee - 45.0 EUR\\n\\nRepairs and Maintenance:\\n- 2024-09-05 - Plant Nursery - 32.0 EUR\\n- 2024-09-10 - Garden Tools Rental - 25.0 EUR\\n- 2024-09-15 - Lawn Mowing Service - 40.0 EUR\\n- 2024-09-20 - Tree Trimming Service - 150.0 EUR\\n- 2024-09-25 - Pest Control Service - 85.0 EUR\\n- 2024-09-07 - Watch Strap Replacement - 20.0 EUR\\n- 2024-09-12 - Shoe Shine - 8.0 EUR\\n- 2024-09-17 - Suit Dry Cleaning - 35.0 EUR\\n- 2024-09-22 - Leather Goods Repair - 28.0 EUR\\n- 2024-09-27 - Jewelry Cleaning - 12.0 EUR\\n- 2024-09-02 - Clothing Alteration - 15.0 EUR\\n\\nVehicle Maintenance:\\n- 2024-09-03 - Tire Rotation - 40.0 EUR\\n- 2024-09-08 - Oil Change - 55.0 EUR\\n- 2024-09-13 - Car Detailing - 80.0 EUR\\n- 2024-09-18 - Windshield Wiper Replacement - 25.0 EUR\\n- 2024-09-23 - Battery Replacement - 120.0 EUR\\n- 2024-09-28 - Brake Pad Replacement - 150.0 EUR']\n"
     ]
    }
   ],
   "source": [
    "'''\n",
    "Loop over the batches of chunks, send each batch to LLm and concatenate the response\n",
    "'''\n",
    "\n",
    "for i in range(0, len(df), chunk_size):\n",
    "    # Select the current batch of expenses\n",
    "    current_expenses = df.iloc[i:i+chunk_size]\n",
    "    \n",
    "    formatted_expenses = format_expenses(current_expenses)\n",
    "    categorized_response = categorize_expenses(formatted_expenses)\n",
    "    categorized_expenses.append(categorized_response)\n",
    "    \n",
    "print(\"....categorized_expenses (final list).....\",categorized_expenses)\n",
    "    "
   ]
  },
  {
   "cell_type": "code",
   "execution_count": 10,
   "id": "4ed8f6f5-c21d-4860-9313-3c071cb3f67f",
   "metadata": {},
   "outputs": [],
   "source": [
    "'''\n",
    "Postprocessing of the response, creates a tuple with (date, description, category, amount) for every row, \n",
    "stores all tuples in the list.\n",
    "'''\n",
    "def extract_data(text):\n",
    "    entries = []\n",
    "    for block in text.split(\"\\n\\n\"):\n",
    "        print()\n",
    "        category, *expenses = block.split(\"\\n\")\n",
    "        for expense in expenses:\n",
    "            match = re.match(r\"- (\\d{4}-\\d{2}-\\d{2}) - (.*?) - ([\\d.]+) EUR\", expense.strip())\n",
    "            if match:\n",
    "                date, desc, amount = match.groups()\n",
    "                entries.append((date, desc, category.strip(\":\"), float(amount)))\n",
    "    return entries\n"
   ]
  },
  {
   "cell_type": "code",
   "execution_count": 11,
   "id": "19557c59-2aa6-4853-9a7a-7b974cad1c13",
   "metadata": {
    "scrolled": true
   },
   "outputs": [
    {
     "name": "stdout",
     "output_type": "stream",
     "text": [
      "\n",
      "\n",
      "\n",
      "\n",
      "\n",
      "\n",
      "\n",
      "\n",
      "\n",
      "\n",
      "\n",
      "\n",
      "\n",
      "\n",
      "\n",
      "\n",
      "\n",
      "\n",
      "\n",
      "\n",
      "\n",
      "\n",
      "\n",
      "\n",
      "\n",
      "\n",
      "\n",
      "\n",
      "\n",
      "\n",
      "\n",
      "\n",
      "\n",
      "\n",
      "\n",
      "\n",
      "\n",
      "\n",
      "\n",
      "\n",
      "\n",
      "\n",
      "\n",
      "\n",
      "\n",
      "\n"
     ]
    }
   ],
   "source": [
    "# Extract data from all response batches\n",
    "all_entries = []\n",
    "\n",
    "for text in categorized_expenses:\n",
    "    all_entries.extend(extract_data(text))\n",
    "\n",
    "# Create a DataFrame from the extracted data\n",
    "df_expenses = pd.DataFrame(all_entries, columns=[\"Date\", \"Expense\", \"Category\", \"Amount\"])\n",
    "# Format the category names\n",
    "df_expenses[\"Category\"] = df_expenses[\"Category\"].apply(lambda x: x.title())"
   ]
  },
  {
   "cell_type": "code",
   "execution_count": 12,
   "id": "38c3a80f-8b6b-4d76-9ae5-20a43868716b",
   "metadata": {},
   "outputs": [
    {
     "name": "stdout",
     "output_type": "stream",
     "text": [
      "['Housing And Utilities' 'Transportation' 'Vehicle Maintenance'\n",
      " 'Food And Drinks' 'Groceries' 'Health And Wellness' 'Shopping'\n",
      " 'Entertainment' 'Subscriptions And Fees' 'Miscellaneous' 'Personal Care'\n",
      " 'Repairs And Maintenance']\n"
     ]
    }
   ],
   "source": [
    "unique_categories = df_expenses[\"Category\"].unique()\n",
    "print(unique_categories)"
   ]
  },
  {
   "cell_type": "code",
   "execution_count": 13,
   "id": "9be57558-11db-41ee-8980-4b702ad7e8db",
   "metadata": {},
   "outputs": [],
   "source": [
    "def standardize_categories(Category):\n",
    "    return Category.strip(\"**\").strip(\":\").strip()\n",
    "\n",
    "    \n",
    "    '''\n",
    "    # Define mappings of similar categories to unified names (without prompt engineering)\n",
    "    if \"food\" in category or \"dining\" in category or in category or \"snacks\" in category or \"beverages\" in category:\n",
    "        return \"Food and Drinks\"\n",
    "    elif \"transportation\" in category or \"vehicle\" in category:\n",
    "        return \"Transportation\"\n",
    "    elif \"entertainment\" in category or \"recreation\" in category:\n",
    "        return \"Entertainment\"\n",
    "    elif \"housing\" in category or \"bill\" in category or \"utilities\" in category or \"home\" in category:\n",
    "        return \"Housing and Utilities\"\n",
    "    elif \"health\" in category or \"wellness\" in category or \"pets\" in category:\n",
    "        return \"Health and Wellness\"\n",
    "    elif \"shopping\" in category or \"miscellaneous\" in category or \"non-food\" in category:\n",
    "        return \"Shopping\"\n",
    "    elif \"finance\" in category or \"banking\" in category or \"insurance\" in category or \"fees\" in category or \"technology\" in category \"digital\" in category:\n",
    "        return \"Subscription and Fees\"\n",
    "    elif \"personal\" in category or \"care\" in category or \"services\" in category or \"beauty\" in category:\n",
    "        return \"Personal Care\"\n",
    "    elif \"office\" in category or \"education\" in category or \"school\" in category:\n",
    "        return \"Education\"\n",
    "    elif \"garden\" in category or \"home\" in category or \"repair\" in category:\n",
    "        return \"Maintenance and Repair\"\n",
    "    else:\n",
    "        return category\n",
    "    '''\n",
    "\n",
    "\n",
    "    "
   ]
  },
  {
   "cell_type": "code",
   "execution_count": 15,
   "id": "58003f71-86d4-4092-bd1a-6506f285b6ec",
   "metadata": {
    "scrolled": true
   },
   "outputs": [
    {
     "name": "stdout",
     "output_type": "stream",
     "text": [
      "           Date                       Expense               Category   Amount\n",
      "0    2024-09-01                          Rent  Housing And Utilities  1200.00\n",
      "1    2024-09-01              Electricity Bill  Housing And Utilities    75.50\n",
      "2    2024-09-01                    Water Bill  Housing And Utilities    30.00\n",
      "3    2024-09-01              Internet Service  Housing And Utilities    45.00\n",
      "4    2024-09-01                Home Insurance  Housing And Utilities    58.33\n",
      "..          ...                           ...                    ...      ...\n",
      "240  2024-09-08                    Oil Change    Vehicle Maintenance    55.00\n",
      "241  2024-09-13                 Car Detailing    Vehicle Maintenance    80.00\n",
      "242  2024-09-18  Windshield Wiper Replacement    Vehicle Maintenance    25.00\n",
      "243  2024-09-23           Battery Replacement    Vehicle Maintenance   120.00\n",
      "244  2024-09-28         Brake Pad Replacement    Vehicle Maintenance   150.00\n",
      "\n",
      "[245 rows x 4 columns]\n"
     ]
    },
    {
     "data": {
      "text/html": [
       "<div>\n",
       "<style scoped>\n",
       "    .dataframe tbody tr th:only-of-type {\n",
       "        vertical-align: middle;\n",
       "    }\n",
       "\n",
       "    .dataframe tbody tr th {\n",
       "        vertical-align: top;\n",
       "    }\n",
       "\n",
       "    .dataframe thead th {\n",
       "        text-align: right;\n",
       "    }\n",
       "</style>\n",
       "<table border=\"1\" class=\"dataframe\">\n",
       "  <thead>\n",
       "    <tr style=\"text-align: right;\">\n",
       "      <th></th>\n",
       "      <th>Date</th>\n",
       "      <th>Expense</th>\n",
       "      <th>Category</th>\n",
       "      <th>Amount</th>\n",
       "    </tr>\n",
       "  </thead>\n",
       "  <tbody>\n",
       "    <tr>\n",
       "      <th>0</th>\n",
       "      <td>2024-09-01</td>\n",
       "      <td>Rent</td>\n",
       "      <td>Housing And Utilities</td>\n",
       "      <td>1200.00</td>\n",
       "    </tr>\n",
       "    <tr>\n",
       "      <th>1</th>\n",
       "      <td>2024-09-01</td>\n",
       "      <td>Electricity Bill</td>\n",
       "      <td>Housing And Utilities</td>\n",
       "      <td>75.50</td>\n",
       "    </tr>\n",
       "    <tr>\n",
       "      <th>2</th>\n",
       "      <td>2024-09-01</td>\n",
       "      <td>Water Bill</td>\n",
       "      <td>Housing And Utilities</td>\n",
       "      <td>30.00</td>\n",
       "    </tr>\n",
       "    <tr>\n",
       "      <th>3</th>\n",
       "      <td>2024-09-01</td>\n",
       "      <td>Internet Service</td>\n",
       "      <td>Housing And Utilities</td>\n",
       "      <td>45.00</td>\n",
       "    </tr>\n",
       "    <tr>\n",
       "      <th>4</th>\n",
       "      <td>2024-09-01</td>\n",
       "      <td>Home Insurance</td>\n",
       "      <td>Housing And Utilities</td>\n",
       "      <td>58.33</td>\n",
       "    </tr>\n",
       "  </tbody>\n",
       "</table>\n",
       "</div>"
      ],
      "text/plain": [
       "         Date           Expense               Category   Amount\n",
       "0  2024-09-01              Rent  Housing And Utilities  1200.00\n",
       "1  2024-09-01  Electricity Bill  Housing And Utilities    75.50\n",
       "2  2024-09-01        Water Bill  Housing And Utilities    30.00\n",
       "3  2024-09-01  Internet Service  Housing And Utilities    45.00\n",
       "4  2024-09-01    Home Insurance  Housing And Utilities    58.33"
      ]
     },
     "execution_count": 15,
     "metadata": {},
     "output_type": "execute_result"
    }
   ],
   "source": [
    "# Apply the standardization to the 'category' column\n",
    "df_expenses['Category'] = df_expenses['Category'].apply(standardize_categories)\n",
    "print(df_expenses)\n",
    "df_expenses.head()\n",
    "\n"
   ]
  },
  {
   "cell_type": "code",
   "execution_count": null,
   "id": "f56644e7-5937-4c37-a60d-2d236f5d8794",
   "metadata": {},
   "outputs": [],
   "source": []
  }
 ],
 "metadata": {
  "kernelspec": {
   "display_name": "Python 3 (ipykernel)",
   "language": "python",
   "name": "python3"
  },
  "language_info": {
   "codemirror_mode": {
    "name": "ipython",
    "version": 3
   },
   "file_extension": ".py",
   "mimetype": "text/x-python",
   "name": "python",
   "nbconvert_exporter": "python",
   "pygments_lexer": "ipython3",
   "version": "3.12.4"
  }
 },
 "nbformat": 4,
 "nbformat_minor": 5
}
